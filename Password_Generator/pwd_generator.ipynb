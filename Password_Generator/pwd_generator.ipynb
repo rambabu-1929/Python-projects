{
 "cells": [
  {
   "cell_type": "markdown",
   "id": "55b2ee84",
   "metadata": {},
   "source": [
    "<h2>Random Password Generator</h2>"
   ]
  },
  {
   "cell_type": "code",
   "execution_count": 7,
   "id": "4773be5f",
   "metadata": {},
   "outputs": [],
   "source": [
    "letters = ['a','b','c','d','e','f','g','h','j','k','l','m','n','o','p','q',\n",
    "           'r','s','t','u','v','w','x','y','z','A', 'B', 'C', 'D', 'E', 'F',\n",
    "           'G', 'H', 'J', 'K', 'L', 'M', 'N','O', 'P', 'Q', 'R', 'S', 'T',\n",
    "           'U', 'V', 'W', 'X', 'Y', 'Z']\n",
    "\n",
    "symbols = ['!','@','#','$','%','^','&','*','(',')','[',']']\n",
    "\n",
    "numbers = [0,1,2,3,4,5,6,7,8,9]"
   ]
  },
  {
   "cell_type": "code",
   "execution_count": 10,
   "id": "6bf801fc",
   "metadata": {},
   "outputs": [
    {
     "name": "stdout",
     "output_type": "stream",
     "text": [
      "How many letters do you want3\n",
      "Awl\n"
     ]
    }
   ],
   "source": [
    "import random\n",
    "\n",
    "user_letters = input('How many letters do you want')\n",
    "\n",
    "rand_letter = ''\n",
    "for i in range(0,int(user_letters)):\n",
    "    rand_num = random.randrange(0,len(letters))\n",
    "    rand_letter+=letters[rand_num]\n",
    "print(rand_letter)"
   ]
  },
  {
   "cell_type": "code",
   "execution_count": null,
   "id": "463c9c63",
   "metadata": {},
   "outputs": [],
   "source": []
  }
 ],
 "metadata": {
  "kernelspec": {
   "display_name": "Python 3 (ipykernel)",
   "language": "python",
   "name": "python3"
  },
  "language_info": {
   "codemirror_mode": {
    "name": "ipython",
    "version": 3
   },
   "file_extension": ".py",
   "mimetype": "text/x-python",
   "name": "python",
   "nbconvert_exporter": "python",
   "pygments_lexer": "ipython3",
   "version": "3.11.7"
  }
 },
 "nbformat": 4,
 "nbformat_minor": 5
}
