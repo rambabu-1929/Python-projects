{
 "cells": [
  {
   "cell_type": "markdown",
   "id": "3bf433e5",
   "metadata": {},
   "source": [
    "<h2>Random Password Generator</h2>"
   ]
  },
  {
   "cell_type": "code",
   "execution_count": 22,
   "id": "f1cbc5c9",
   "metadata": {},
   "outputs": [],
   "source": [
    "from IPython.display import clear_output\n",
    "\n",
    "letters = ['a','b','c','d','e','f','g','h','j','k','l','m','n','o','p','q',\n",
    "           'r','s','t','u','v','w','x','y','z','A', 'B', 'C', 'D', 'E', 'F',\n",
    "           'G', 'H', 'J', 'K', 'L', 'M', 'N','O', 'P', 'Q', 'R', 'S', 'T',\n",
    "           'U', 'V', 'W', 'X', 'Y', 'Z']\n",
    "\n",
    "symbols = ['!','@','#','$','%','^','&','*','(',')','[',']']\n",
    "\n",
    "numbers = ['0','1','2','3','4','5','6','7','8','9']"
   ]
  },
  {
   "cell_type": "code",
   "execution_count": 21,
   "id": "b6a0fb68",
   "metadata": {},
   "outputs": [
    {
     "name": "stdout",
     "output_type": "stream",
     "text": [
      "Your random password is 7*wa%699V9$*\n"
     ]
    }
   ],
   "source": [
    "import random\n",
    "\n",
    "user_letters = input('How many letters do you want\\n')\n",
    "\n",
    "while user_letters not in ['0','1','2','3','4','5','6','7','8','9']:\n",
    "    print('Only choose from 0-9\\n')\n",
    "    user_letters = input('How many letters do you want\\n')\n",
    "\n",
    "rand_pwd = ''\n",
    "for i in range(0,int(user_letters)):\n",
    "    rand_num = random.randrange(0,len(letters))\n",
    "    rand_pwd+=letters[rand_num]\n",
    "clear_output()\n",
    "\n",
    "user_symbols = input('How many symbols do you want\\n')\n",
    "\n",
    "while user_symbols not in ['0','1','2','3','4','5','6','7','8','9']:\n",
    "    print('Only choose from 0-9\\n')\n",
    "    user_letters = input('How many symbols do you want\\n')\n",
    "\n",
    "\n",
    "for i in range(0,int(user_symbols)):\n",
    "    rand_num = random.randrange(0,len(symbols))\n",
    "    rand_pwd+=symbols[rand_num]\n",
    "clear_output()\n",
    "\n",
    "user_numbers = input('How many numbers do you want\\n')\n",
    "\n",
    "while user_numbers not in ['0','1','2','3','4','5','6','7','8','9']:\n",
    "    print('Only choose from 0-9\\n')\n",
    "    user_letters = input('How many numbers do you want\\n')\n",
    "\n",
    "\n",
    "for i in range(0,int(user_numbers)):\n",
    "    rand_num = random.randrange(0,len(numbers))\n",
    "    rand_pwd+=numbers[rand_num]\n",
    "clear_output()\n",
    "    \n",
    "random_password = [word for word in rand_pwd]\n",
    "\n",
    "random.shuffle(random_password)\n",
    "\n",
    "final_password = ''\n",
    "\n",
    "for pwd in range(0,len(random_password)):\n",
    "    final_password+=random_password[pwd]\n",
    "print(f'Your random password is {final_password}')"
   ]
  }
 ],
 "metadata": {
  "kernelspec": {
   "display_name": "Python 3 (ipykernel)",
   "language": "python",
   "name": "python3"
  },
  "language_info": {
   "codemirror_mode": {
    "name": "ipython",
    "version": 3
   },
   "file_extension": ".py",
   "mimetype": "text/x-python",
   "name": "python",
   "nbconvert_exporter": "python",
   "pygments_lexer": "ipython3",
   "version": "3.11.7"
  }
 },
 "nbformat": 4,
 "nbformat_minor": 5
}
