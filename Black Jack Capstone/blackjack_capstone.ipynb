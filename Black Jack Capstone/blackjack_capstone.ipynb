{
 "cells": [
  {
   "cell_type": "markdown",
   "id": "9b42c5a1",
   "metadata": {},
   "source": [
    "# BlackJack CapStone"
   ]
  },
  {
   "cell_type": "code",
   "execution_count": 75,
   "id": "d50fcd1c",
   "metadata": {},
   "outputs": [],
   "source": [
    "from IPython.display import clear_output\n",
    "import random\n",
    "from card_starter_pack import Suit, Rank, rank_value"
   ]
  },
  {
   "cell_type": "code",
   "execution_count": 2,
   "id": "a1af411b",
   "metadata": {},
   "outputs": [],
   "source": [
    "# Assigning suits, ranks, ranks_values. Ex,. (Diamond,Three,3)\n",
    "\n",
    "suit = Suit()\n",
    "\n",
    "card_rank = Rank()\n",
    "\n",
    "card_rank_value = rank_value()"
   ]
  },
  {
   "cell_type": "code",
   "execution_count": 3,
   "id": "a1e1a8ab",
   "metadata": {},
   "outputs": [
    {
     "name": "stdout",
     "output_type": "stream",
     "text": [
      "('Heart', 'Diamond', 'Club', 'Spade')\n",
      "('One', 'Two', 'Three', 'Four', 'Five', 'Six', 'Seven', 'Eight', 'Nine', 'Ten', 'Jack', 'King', 'Queen', 'Ace')\n",
      "{'One': 1, 'Two': 2, 'Three': 3, 'Four': 4, 'Five': 5, 'Six': 6, 'Seven': 7, 'Eight': 8, 'Nine': 9, 'Ten': 10, 'Jack': 10, 'Queen': 10, 'King': 10, 'Ace': 11}\n"
     ]
    }
   ],
   "source": [
    "print(suit)\n",
    "print(card_rank)\n",
    "print(card_rank_value)"
   ]
  },
  {
   "cell_type": "code",
   "execution_count": 4,
   "id": "2207ed19",
   "metadata": {},
   "outputs": [],
   "source": [
    "# Card Class\n",
    "\n",
    "class Card():\n",
    "    \n",
    "    def __init__(self, suit, rank):\n",
    "        self.suit = suit\n",
    "        self.rank = rank\n",
    "        self.value = card_rank_value[rank]\n",
    "    \n",
    "    def __str__(self):\n",
    "        return f'{self.suit} of {self.rank}'"
   ]
  },
  {
   "cell_type": "code",
   "execution_count": 5,
   "id": "644ae275",
   "metadata": {},
   "outputs": [],
   "source": [
    "# Deck Class\n",
    "\n",
    "class Deck():\n",
    "    \n",
    "    def __init__(self):\n",
    "        self.deck_of_cards = []\n",
    "\n",
    "    # Creating a deck of 52 cards\n",
    "        for i in range(52):\n",
    "            rand_suit = suit[random.randrange(0,len(suit))]\n",
    "            rand_rank = card_rank[random.randrange(0,len(card_rank))]\n",
    "            \n",
    "            curr_card = Card(rand_suit, rand_rank)\n",
    "            self.deck_of_cards.append(curr_card)\n",
    "    \n",
    "    def deal(self):\n",
    "        return self.deck_of_cards.pop()"
   ]
  },
  {
   "cell_type": "code",
   "execution_count": 6,
   "id": "c1a48dfc",
   "metadata": {},
   "outputs": [],
   "source": [
    "# Hand Class\n",
    "\n",
    "class Hand():\n",
    "    \n",
    "    def __init__(self):\n",
    "        self.player_deck = []\n",
    "    \n",
    "    def add_card(self,p_card):\n",
    "        self.player_deck.append(p_card)\n",
    "        \n",
    "        # adjusting the ace\n",
    "        if sum(self.player_deck) > 21 and 11 in self.player_deck:\n",
    "            print(f'Player has ace. Now adjusting...{sum(self.player_deck)}')\n",
    "            ace_index = self.player_deck.index(11)\n",
    "            self.player_deck[ace_index] = 1\n",
    "            print(f'Adjusted value...{sum(self.player_deck)}')\n",
    "        else:\n",
    "            pass"
   ]
  },
  {
   "cell_type": "code",
   "execution_count": 7,
   "id": "eb45bfd2",
   "metadata": {},
   "outputs": [],
   "source": [
    "fierro_deck = Deck()"
   ]
  },
  {
   "cell_type": "code",
   "execution_count": 23,
   "id": "de9f6745",
   "metadata": {},
   "outputs": [
    {
     "data": {
      "text/plain": [
       "52"
      ]
     },
     "execution_count": 23,
     "metadata": {},
     "output_type": "execute_result"
    }
   ],
   "source": [
    "len(fierro_deck.deck_of_cards)"
   ]
  },
  {
   "cell_type": "code",
   "execution_count": 24,
   "id": "acbb47c0",
   "metadata": {},
   "outputs": [],
   "source": [
    "elon = Hand()"
   ]
  },
  {
   "cell_type": "code",
   "execution_count": 25,
   "id": "25e9ba03",
   "metadata": {},
   "outputs": [
    {
     "name": "stdout",
     "output_type": "stream",
     "text": [
      "[5]\n"
     ]
    }
   ],
   "source": [
    "poped_card = fierro_deck.deal().value\n",
    "\n",
    "elon.add_card(poped_card)\n",
    "\n",
    "print(elon.player_deck)"
   ]
  },
  {
   "cell_type": "code",
   "execution_count": 10,
   "id": "1ce98073",
   "metadata": {},
   "outputs": [],
   "source": [
    "# Class Chip\n",
    "\n",
    "class Chip():\n",
    "    \n",
    "    def __init__(self, tot_amount = 500):\n",
    "        self.tot_amount = tot_amount\n",
    "    \n",
    "    def add_amount(self,p_amount):\n",
    "        self.tot_amount+=p_amount\n",
    "        return self.tot_amount\n",
    "    \n",
    "    def deduct_amount(self, p_amount):\n",
    "        self.tot_amount-=p_amount\n",
    "        return self.tot_amount\n",
    "    \n",
    "    def __str__(self):\n",
    "        return f'The Current Amount in hand is : {self.tot_amount}'"
   ]
  },
  {
   "cell_type": "code",
   "execution_count": 11,
   "id": "b18ecefe",
   "metadata": {},
   "outputs": [],
   "source": [
    "def play_bet():\n",
    "    \n",
    "    tony_chip = Chip()\n",
    "    \n",
    "    while True:\n",
    "        print(tony_chip)\n",
    "        user_bet = int(input('Place your bet. Avl.options: [100, 150, 200, 300]'))\n",
    "        \n",
    "        while user_bet not in [100, 150, 200, 300]:\n",
    "            print('Only choose from the Avl.options')\n",
    "            user_bet = int(input('Place your bet. Avl.options: [100, 150, 200, 300]'))\n",
    "            \n",
    "        tony_chip.deduct_amount(user_bet)\n",
    "        \n",
    "        if tony_chip.tot_amount <= 0:\n",
    "            print('Out of Cash..... !!!')\n",
    "            break\n",
    "        else:\n",
    "            pass"
   ]
  },
  {
   "cell_type": "code",
   "execution_count": 100,
   "id": "b3879d13",
   "metadata": {},
   "outputs": [],
   "source": [
    "def black_stone():\n",
    "    \n",
    "    is_main_game_on = False\n",
    "    \n",
    "    # Creating Chip for Player\n",
    "    player_chip = Chip()\n",
    "    \n",
    "    #checking the total_chips before bet\n",
    "    player_chip.tot_amount\n",
    "    \n",
    "    #print(player_chip)\n",
    "    \n",
    "    while not is_main_game_on:\n",
    "        \n",
    "        print(player_chip)\n",
    "        \n",
    "        user_bet = input('Choose your bet: 100, 200, 300\\n')\n",
    "        \n",
    "        while user_bet not in ['100','200','300']:\n",
    "            print('Only choose from the list')\n",
    "            user_bet = input('Choose your bet: 100, 200, 300\\n')\n",
    "            \n",
    "        while int(user_bet) > player_chip.tot_amount:\n",
    "            print('U cannnot bet more than u have..choose less')\n",
    "            print(player_chip)\n",
    "            user_bet = input('Choose your bet: 100, 200, 300\\n')\n",
    "    \n",
    "        # Creating deck\n",
    "        new_deck = Deck()\n",
    "\n",
    "        # Creating Player and dealer\n",
    "        player = Hand()\n",
    "\n",
    "        dealer = Hand()\n",
    "\n",
    "\n",
    "        #Initializing game logic\n",
    "        \n",
    "        for i in range(2):\n",
    "            poped_card = new_deck.deal().value\n",
    "            \n",
    "            player.add_card(poped_card)\n",
    "        \n",
    "        for j in range(2):\n",
    "            poped_card = new_deck.deal().value\n",
    "            \n",
    "            dealer.add_card(poped_card)\n",
    "            \n",
    "        print(f'Player Value: {player.player_deck}')\n",
    "        print(f\"Dealer Value: {dealer.player_deck[0]},'X'\")\n",
    "        \n",
    "        #BLACKJACK CAPSTONE\n",
    "        is_game_on = False\n",
    "        \n",
    "        while not is_game_on:\n",
    "        \n",
    "            user_des = input('Do u want to Hit or Stand: H or S: \\n')\n",
    "\n",
    "            while user_des.upper() not in ['H','S']:\n",
    "                print('Only choose from the below')\n",
    "                user_des = input('Do u want to Hit or Stand: H or S: \\n')\n",
    "            \n",
    "            if user_des == 'S':\n",
    "                if sum(player.player_deck) > sum(dealer.player_deck):\n",
    "                    print(f'Player Value: {sum(player.player_deck)}')\n",
    "                    print(f'Dealer Value: {sum(dealer.player_deck)}')\n",
    "                    print('Player Wins')\n",
    "                    player_chip.add_amount(int(user_bet))\n",
    "                    is_game_on = True\n",
    "                elif sum(dealer.player_deck) > sum(player.player_deck):\n",
    "                    print(f'Player Value: {sum(player.player_deck)}')\n",
    "                    print(f'Dealer Value: {sum(dealer.player_deck)}')\n",
    "                    print('Dealer Wins')\n",
    "                    player_chip.deduct_amount(int(user_bet))\n",
    "                    is_game_on = True\n",
    "                elif sum(dealer.player_deck) == sum(player.player_deck):\n",
    "                    print('Match Draw')\n",
    "                    is_game_on = True\n",
    "                    \n",
    "            elif user_des == 'H':\n",
    "                poped_card = new_deck.deal().value\n",
    "                \n",
    "                player.add_card(poped_card)\n",
    "                \n",
    "                if sum(player.player_deck) > 21:\n",
    "                    print('You Loose, exceeded the maximum value')\n",
    "                    is_game_on = True\n",
    "                else:\n",
    "                    print(f'Player Value: {player.player_deck}')\n",
    "                    \n",
    "        clear_output()\n",
    "                    \n",
    "        if player_chip.tot_amount > 0:\n",
    "            \n",
    "            user_continue = input('Do u want to continue? Y for yes N for no:\\n')\n",
    "\n",
    "            if user_continue.lower() == 'y':\n",
    "                pass\n",
    "            else:\n",
    "                is_main_game_on = True\n",
    "        else:\n",
    "            print('U loose the bet...')\n",
    "            is_main_game_on = True"
   ]
  },
  {
   "cell_type": "code",
   "execution_count": 99,
   "id": "276cda84",
   "metadata": {},
   "outputs": [],
   "source": [
    "del black_stone"
   ]
  },
  {
   "cell_type": "code",
   "execution_count": 97,
   "id": "9bf03784",
   "metadata": {},
   "outputs": [],
   "source": [
    "black_stone()"
   ]
  },
  {
   "cell_type": "code",
   "execution_count": null,
   "id": "877c2e73",
   "metadata": {},
   "outputs": [],
   "source": []
  }
 ],
 "metadata": {
  "kernelspec": {
   "display_name": "Python 3 (ipykernel)",
   "language": "python",
   "name": "python3"
  },
  "language_info": {
   "codemirror_mode": {
    "name": "ipython",
    "version": 3
   },
   "file_extension": ".py",
   "mimetype": "text/x-python",
   "name": "python",
   "nbconvert_exporter": "python",
   "pygments_lexer": "ipython3",
   "version": "3.11.7"
  }
 },
 "nbformat": 4,
 "nbformat_minor": 5
}
