{
 "cells": [
  {
   "cell_type": "markdown",
   "id": "9b42c5a1",
   "metadata": {},
   "source": [
    "# BlackJack CapStone"
   ]
  },
  {
   "cell_type": "code",
   "execution_count": 5,
   "id": "d50fcd1c",
   "metadata": {},
   "outputs": [],
   "source": [
    "import random\n",
    "from card_starter_pack import Suit, Rank, rank_value"
   ]
  },
  {
   "cell_type": "code",
   "execution_count": 6,
   "id": "a1af411b",
   "metadata": {},
   "outputs": [],
   "source": [
    "# Assigning suits, ranks, ranks_values. Ex,. (Diamond,Three,3)\n",
    "\n",
    "suit = Suit()\n",
    "\n",
    "card_rank = Rank()\n",
    "\n",
    "card_rank_value = rank_value()"
   ]
  },
  {
   "cell_type": "code",
   "execution_count": 7,
   "id": "a1e1a8ab",
   "metadata": {},
   "outputs": [
    {
     "name": "stdout",
     "output_type": "stream",
     "text": [
      "('Heart', 'Diamond', 'Club', 'Spade')\n",
      "('One', 'Two', 'Three', 'Four', 'Five', 'Six', 'Seven', 'Eight', 'Nine', 'Ten', 'Jack', 'King', 'Queen', 'Ace')\n",
      "{'One': 1, 'Two': 2, 'Three': 3, 'Four': 4, 'Five': 5, 'Six': 6, 'Seven': 7, 'Eight': 8, 'Nine': 9, 'Ten': 10, 'Jack': 10, 'Queen': 10, 'King': 10, 'Ace': 11}\n"
     ]
    }
   ],
   "source": [
    "print(suit)\n",
    "print(card_rank)\n",
    "print(card_rank_value)"
   ]
  },
  {
   "cell_type": "code",
   "execution_count": 8,
   "id": "2207ed19",
   "metadata": {},
   "outputs": [],
   "source": [
    "# Card Class\n",
    "\n",
    "class Card():\n",
    "    \n",
    "    def __init__(self, suit, rank):\n",
    "        self.suit = suit\n",
    "        self.rank = rank\n",
    "        self.value = card_rank_value[rank]\n",
    "    \n",
    "    def __str__(self):\n",
    "        return f'{self.suit} of {self.rank}'"
   ]
  },
  {
   "cell_type": "code",
   "execution_count": 9,
   "id": "644ae275",
   "metadata": {},
   "outputs": [],
   "source": [
    "# Deck Class\n",
    "\n",
    "class Deck():\n",
    "    \n",
    "    def __init__(self):\n",
    "        self.deck_of_cards = []\n",
    "\n",
    "    # Creating a deck of 52 cards\n",
    "        for i in range(52):\n",
    "            rand_suit = suit[random.randrange(0,len(suit))]\n",
    "            rand_rank = card_rank[random.randrange(0,len(card_rank))]\n",
    "            \n",
    "            curr_card = Card(rand_suit, rand_rank)\n",
    "            self.deck_of_cards.append(curr_card)\n",
    "    \n",
    "    def deal(self):\n",
    "        return self.deck_of_cards.pop()"
   ]
  },
  {
   "cell_type": "code",
   "execution_count": 92,
   "id": "c1a48dfc",
   "metadata": {},
   "outputs": [],
   "source": [
    "# Hand Class\n",
    "\n",
    "class Hand():\n",
    "    \n",
    "    def __init__(self):\n",
    "        self.player_deck = []\n",
    "    \n",
    "    def add_card(self,card):\n",
    "        self.player_deck.append(card)\n",
    "        \n",
    "        # adjusting the ace\n",
    "        if sum(self.player_deck) > 21 and 11 in self.player_deck:\n",
    "            print(f'Player has ace. Now adjusting...{sum(self.player_deck)}')\n",
    "            ace_index = self.player_deck.index(11)\n",
    "            self.player_deck[ace_index] = 1\n",
    "            print(f'Adjusted value...{sum(self.player_deck)}')\n",
    "        else:\n",
    "            pass"
   ]
  },
  {
   "cell_type": "code",
   "execution_count": 108,
   "id": "eb45bfd2",
   "metadata": {},
   "outputs": [],
   "source": [
    "fierro_deck = Deck()"
   ]
  },
  {
   "cell_type": "code",
   "execution_count": 109,
   "id": "de9f6745",
   "metadata": {},
   "outputs": [
    {
     "data": {
      "text/plain": [
       "52"
      ]
     },
     "execution_count": 109,
     "metadata": {},
     "output_type": "execute_result"
    }
   ],
   "source": [
    "len(fierro_deck.deck_of_cards)"
   ]
  },
  {
   "cell_type": "code",
   "execution_count": 113,
   "id": "1ce98073",
   "metadata": {},
   "outputs": [],
   "source": [
    "# Class Chip\n",
    "\n",
    "class Chip():\n",
    "    \n",
    "    def __init__(self, initial_amount = 500):\n",
    "        self.initial_amount = initial_amount\n",
    "    \n",
    "    def add_amount(self,p_amount):\n",
    "        self.initial_amount+=p_amount\n",
    "        return self.initial_amount\n",
    "    \n",
    "    def deduct_amount(self, p_amount):\n",
    "        self.initial_amount-=p_amount\n",
    "        return self.initial_amount\n",
    "    \n",
    "    def __str__(self):\n",
    "        return f'The Inital Amount is : {self.initial_amount}'"
   ]
  },
  {
   "cell_type": "code",
   "execution_count": 114,
   "id": "2e99d37d",
   "metadata": {},
   "outputs": [],
   "source": [
    "tony_chip = Chip()"
   ]
  }
 ],
 "metadata": {
  "kernelspec": {
   "display_name": "Python 3 (ipykernel)",
   "language": "python",
   "name": "python3"
  },
  "language_info": {
   "codemirror_mode": {
    "name": "ipython",
    "version": 3
   },
   "file_extension": ".py",
   "mimetype": "text/x-python",
   "name": "python",
   "nbconvert_exporter": "python",
   "pygments_lexer": "ipython3",
   "version": "3.11.7"
  }
 },
 "nbformat": 4,
 "nbformat_minor": 5
}
