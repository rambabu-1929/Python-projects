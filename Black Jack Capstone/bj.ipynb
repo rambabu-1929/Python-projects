{
 "cells": [
  {
   "cell_type": "markdown",
   "id": "fd1ecf72",
   "metadata": {},
   "source": [
    "# Black Jack CapStone"
   ]
  },
  {
   "cell_type": "code",
   "execution_count": 1,
   "id": "e7132d61",
   "metadata": {},
   "outputs": [],
   "source": [
    "import random\n",
    "from card_starter_pack import Suit,rank_value,Rank"
   ]
  },
  {
   "cell_type": "code",
   "execution_count": 2,
   "id": "40500413",
   "metadata": {},
   "outputs": [],
   "source": [
    "cards = Suit()\n",
    "card_rank = Rank()\n",
    "card_rank_value = rank_value()"
   ]
  },
  {
   "cell_type": "code",
   "execution_count": 3,
   "id": "219f642a",
   "metadata": {},
   "outputs": [
    {
     "name": "stdout",
     "output_type": "stream",
     "text": [
      "Heart\n",
      "One\n",
      "1\n"
     ]
    }
   ],
   "source": [
    "print(cards[0])\n",
    "print(card_rank[0])\n",
    "print(card_rank_value['One'])"
   ]
  },
  {
   "cell_type": "code",
   "execution_count": 4,
   "id": "625029ba",
   "metadata": {},
   "outputs": [],
   "source": [
    "class Card():\n",
    "    \n",
    "    def __init__(self,suit,rank):\n",
    "        self.suit = suit\n",
    "        self.rank = rank\n",
    "        self.value = card_rank_value[rank]\n",
    "        \n",
    "    \n",
    "    def __str__(self):\n",
    "        return f'{self.suit} of {self.rank}'"
   ]
  },
  {
   "cell_type": "code",
   "execution_count": 42,
   "id": "3bc2f9df",
   "metadata": {},
   "outputs": [],
   "source": [
    "class Deck():\n",
    "    \n",
    "    def __init__(self):\n",
    "        self.deck_of_cards = []\n",
    "    \n",
    "        for i in range(52):\n",
    "            rand_suit = random.randrange(0,len(cards))\n",
    "            rand_rank = random.randrange(0,len(card_rank))\n",
    "\n",
    "            curr_card = Card(cards[rand_suit], card_rank[rand_rank])\n",
    "            self.deck_of_cards.append(curr_card)\n",
    "        \n",
    "    def deal_one(self):\n",
    "        return self.deck_of_cards.pop(0)"
   ]
  },
  {
   "cell_type": "code",
   "execution_count": 41,
   "id": "8c77fd36",
   "metadata": {},
   "outputs": [],
   "source": [
    "# del Deck\n",
    "# del new_deck"
   ]
  },
  {
   "cell_type": "code",
   "execution_count": 43,
   "id": "7e3d66fd",
   "metadata": {},
   "outputs": [],
   "source": [
    "new_deck = Deck()"
   ]
  },
  {
   "cell_type": "code",
   "execution_count": 24,
   "id": "b1f3c950",
   "metadata": {},
   "outputs": [],
   "source": [
    "def deal(p_deck):\n",
    "    comp_card = []\n",
    "    \n",
    "    player_card = []\n",
    "    \n",
    "    for i in range(2):\n",
    "        com = p_deck.deal_one()\n",
    "        comp_card.append(com.value)\n",
    "    \n",
    "    for j in range(2):\n",
    "        plyr = p_deck.deal_one()\n",
    "        player_card.append(plyr.value)\n",
    "        \n",
    "    return comp_card, player_card"
   ]
  },
  {
   "cell_type": "code",
   "execution_count": 26,
   "id": "6c2391de",
   "metadata": {},
   "outputs": [],
   "source": [
    "computer_cards, player_cards = deal(new_deck)"
   ]
  },
  {
   "cell_type": "code",
   "execution_count": 27,
   "id": "5d51bdf7",
   "metadata": {},
   "outputs": [
    {
     "name": "stdout",
     "output_type": "stream",
     "text": [
      "[8, 14]\n",
      "[5, 13]\n"
     ]
    }
   ],
   "source": [
    "print(computer_cards)\n",
    "print(player_cards)"
   ]
  },
  {
   "cell_type": "code",
   "execution_count": 44,
   "id": "f165300d",
   "metadata": {},
   "outputs": [],
   "source": [
    "def black_jack():\n",
    "    print('Welcome to Black Jack')\n",
    "    print('Cards Shuffled...')\n",
    "    \n",
    "    \n",
    "    # deal\n",
    "    is_deal = input('Type D for deal')\n",
    "    \n",
    "    while is_deal != 'D':\n",
    "        print('Only select D to start the deal')\n",
    "        \n",
    "        \n",
    "    deal(new_deck)\n",
    "    computer_cards, player_cards = deal(new_deck)\n",
    "    \n",
    "    \n",
    "    user_desition = ''\n",
    "    \n",
    "    while user_desition != 'S':\n",
    "        print(f'Dealer\\'s Current Value: {computer_cards[0]}, X')\n",
    "        \n",
    "        print(f'Your Current Value: {player_cards[0]}, {player_cards[1]}')\n",
    "        \n",
    "        user_desition = input('Do u want to Hit or Stand ? H for Hit || S for Stand: ')\n",
    "\n",
    "        if user_desition == 'H':\n",
    "            player_cards.append(new_deck.deal_one().value)\n",
    "    \n",
    "    while sum(computer_cards) < 17:\n",
    "        computer_cards.append(new_deck.deal_one().value)\n",
    "    \n",
    "    comp_total = sum(computer_cards)\n",
    "    plyr_total = sum(player_cards)\n",
    "    \n",
    "    print(comp_total, plyr_total)\n",
    "    \n",
    "    if comp_total > 21:\n",
    "        print('Player Wins')\n",
    "    elif plyr_total > 21:\n",
    "        print('Dealer Wins')\n",
    "    else:\n",
    "        if comp_total > plyr_total:\n",
    "            print('Player Wins')\n",
    "        elif plyr_total > comp_total:\n",
    "            print('Computer Wins')\n",
    "        elif plyr_total == comp_total:\n",
    "            print('Match Draw')"
   ]
  },
  {
   "cell_type": "code",
   "execution_count": 45,
   "id": "e159a2fc",
   "metadata": {},
   "outputs": [
    {
     "name": "stdout",
     "output_type": "stream",
     "text": [
      "Welcome to Black Jack\n",
      "Cards Shuffled...\n",
      "Type D for dealD\n",
      "Dealer's Current Value: 9, X\n",
      "Your Current Value: 6, 3\n",
      "Do u want to Hit or Stand ? H for Hit || S for Stand: S\n",
      "22 9\n",
      "Player Wins\n"
     ]
    }
   ],
   "source": [
    "black_jack()"
   ]
  },
  {
   "cell_type": "code",
   "execution_count": null,
   "id": "7f50f4e1",
   "metadata": {},
   "outputs": [],
   "source": []
  }
 ],
 "metadata": {
  "kernelspec": {
   "display_name": "Python 3 (ipykernel)",
   "language": "python",
   "name": "python3"
  },
  "language_info": {
   "codemirror_mode": {
    "name": "ipython",
    "version": 3
   },
   "file_extension": ".py",
   "mimetype": "text/x-python",
   "name": "python",
   "nbconvert_exporter": "python",
   "pygments_lexer": "ipython3",
   "version": "3.11.7"
  }
 },
 "nbformat": 4,
 "nbformat_minor": 5
}
