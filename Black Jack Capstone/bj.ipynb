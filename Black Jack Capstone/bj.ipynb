{
 "cells": [
  {
   "cell_type": "markdown",
   "id": "fd1ecf72",
   "metadata": {},
   "source": [
    "# Black Jack CapStone"
   ]
  },
  {
   "cell_type": "code",
   "execution_count": 43,
   "id": "e7132d61",
   "metadata": {},
   "outputs": [],
   "source": [
    "import random\n",
    "from card_starter_pack import Suit,rank_value,Rank"
   ]
  },
  {
   "cell_type": "code",
   "execution_count": 4,
   "id": "40500413",
   "metadata": {},
   "outputs": [],
   "source": [
    "cards = Suit()\n",
    "card_rank = Rank()\n",
    "card_rank_value = rank_value()"
   ]
  },
  {
   "cell_type": "code",
   "execution_count": 7,
   "id": "219f642a",
   "metadata": {},
   "outputs": [
    {
     "name": "stdout",
     "output_type": "stream",
     "text": [
      "Heart\n",
      "One\n",
      "1\n"
     ]
    }
   ],
   "source": [
    "print(cards[0])\n",
    "print(card_rank[0])\n",
    "print(card_rank_value['One'])"
   ]
  },
  {
   "cell_type": "code",
   "execution_count": 38,
   "id": "625029ba",
   "metadata": {},
   "outputs": [],
   "source": [
    "class Card():\n",
    "    \n",
    "    def __init__(self,suit,rank):\n",
    "        self.suit = suit\n",
    "        self.rank = rank\n",
    "        self.value = card_rank_value[rank]\n",
    "    \n",
    "    def __str__(self):\n",
    "        return f'{self.suit} of {self.rank}'"
   ]
  },
  {
   "cell_type": "code",
   "execution_count": 44,
   "id": "3bc2f9df",
   "metadata": {},
   "outputs": [],
   "source": [
    "class Deck():\n",
    "    \n",
    "    deck_of_cards = []\n",
    "    \n",
    "    for i in range(54):\n",
    "        rand_suit = random.randrange(0,len(cards))\n",
    "        rand_rank = random.randrange(0,len(card_rank))\n",
    "        \n",
    "        curr_card = Card(cards[rand_suit], card_rank[rand_rank])\n",
    "        deck_of_cards.append(curr_card)"
   ]
  },
  {
   "cell_type": "code",
   "execution_count": 58,
   "id": "59b33c4e",
   "metadata": {},
   "outputs": [],
   "source": [
    "def deal_one(p_card):\n",
    "    return p_card.pop(0)"
   ]
  },
  {
   "cell_type": "code",
   "execution_count": 45,
   "id": "d5f84e81",
   "metadata": {},
   "outputs": [],
   "source": [
    "deck_one = Deck()"
   ]
  },
  {
   "cell_type": "code",
   "execution_count": 61,
   "id": "85106557",
   "metadata": {},
   "outputs": [],
   "source": [
    "my_curr_card = deck_one.deck_of_cards"
   ]
  },
  {
   "cell_type": "code",
   "execution_count": 70,
   "id": "caa5799c",
   "metadata": {},
   "outputs": [],
   "source": [
    "deleted_card = deal_one(my_curr_card)"
   ]
  },
  {
   "cell_type": "code",
   "execution_count": 71,
   "id": "1c94a491",
   "metadata": {},
   "outputs": [
    {
     "name": "stdout",
     "output_type": "stream",
     "text": [
      "Spade of Nine\n"
     ]
    }
   ],
   "source": [
    "print(deleted_card)"
   ]
  },
  {
   "cell_type": "code",
   "execution_count": 75,
   "id": "41ba1e64",
   "metadata": {},
   "outputs": [
    {
     "data": {
      "text/plain": [
       "9"
      ]
     },
     "execution_count": 75,
     "metadata": {},
     "output_type": "execute_result"
    }
   ],
   "source": [
    "deleted_card.value"
   ]
  }
 ],
 "metadata": {
  "kernelspec": {
   "display_name": "Python 3 (ipykernel)",
   "language": "python",
   "name": "python3"
  },
  "language_info": {
   "codemirror_mode": {
    "name": "ipython",
    "version": 3
   },
   "file_extension": ".py",
   "mimetype": "text/x-python",
   "name": "python",
   "nbconvert_exporter": "python",
   "pygments_lexer": "ipython3",
   "version": "3.11.7"
  }
 },
 "nbformat": 4,
 "nbformat_minor": 5
}
