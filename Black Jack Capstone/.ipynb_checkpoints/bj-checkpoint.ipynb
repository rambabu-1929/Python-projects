{
 "cells": [
  {
   "cell_type": "markdown",
   "id": "fd1ecf72",
   "metadata": {},
   "source": [
    "# Black Jack CapStone"
   ]
  },
  {
   "cell_type": "code",
   "execution_count": 1,
   "id": "e7132d61",
   "metadata": {},
   "outputs": [],
   "source": [
    "import random\n",
    "from card_starter_pack import Suit,rank_value,Rank"
   ]
  },
  {
   "cell_type": "code",
   "execution_count": 2,
   "id": "40500413",
   "metadata": {},
   "outputs": [],
   "source": [
    "cards = Suit()\n",
    "card_rank = Rank()\n",
    "card_rank_value = rank_value()"
   ]
  },
  {
   "cell_type": "code",
   "execution_count": 3,
   "id": "219f642a",
   "metadata": {},
   "outputs": [
    {
     "name": "stdout",
     "output_type": "stream",
     "text": [
      "Heart\n",
      "One\n",
      "1\n"
     ]
    }
   ],
   "source": [
    "print(cards[0])\n",
    "print(card_rank[0])\n",
    "print(card_rank_value['One'])"
   ]
  },
  {
   "cell_type": "code",
   "execution_count": 4,
   "id": "625029ba",
   "metadata": {},
   "outputs": [],
   "source": [
    "class Card():\n",
    "    \n",
    "    def __init__(self,suit,rank):\n",
    "        self.suit = suit\n",
    "        self.rank = rank\n",
    "        self.value = card_rank_value[rank]\n",
    "        \n",
    "    \n",
    "    def __str__(self):\n",
    "        return f'{self.suit} of {self.rank}'"
   ]
  },
  {
   "cell_type": "code",
   "execution_count": 141,
   "id": "3bc2f9df",
   "metadata": {},
   "outputs": [],
   "source": [
    "class Deck():\n",
    "    \n",
    "    def __init__(self):\n",
    "        self.deck_of_cards = []\n",
    "    \n",
    "        for i in range(52):\n",
    "            rand_suit = random.randrange(0,len(cards))\n",
    "            rand_rank = random.randrange(0,len(card_rank))\n",
    "\n",
    "            curr_card = Card(cards[rand_suit], card_rank[rand_rank])\n",
    "            self.deck_of_cards.append(curr_card)\n",
    "        \n",
    "    def deal_one(self):\n",
    "        return self.deck_of_cards.pop(0)"
   ]
  },
  {
   "cell_type": "code",
   "execution_count": 139,
   "id": "55bc9044",
   "metadata": {},
   "outputs": [],
   "source": [
    "del Deck"
   ]
  },
  {
   "cell_type": "code",
   "execution_count": 142,
   "id": "7e3d66fd",
   "metadata": {},
   "outputs": [],
   "source": [
    "current_deck = Deck()"
   ]
  },
  {
   "cell_type": "code",
   "execution_count": 147,
   "id": "b1f3c950",
   "metadata": {},
   "outputs": [],
   "source": [
    "def deal():\n",
    "    comp_card = []\n",
    "    \n",
    "    player_card = []\n",
    "    \n",
    "    for i in range(2):\n",
    "        com = current_deck.deal_one()\n",
    "        comp_card.append(com.value)\n",
    "    \n",
    "    for j in range(2):\n",
    "        plyr = current_deck.deal_one()\n",
    "        player_card.append(plyr.value)\n",
    "        \n",
    "    return comp_card, player_card"
   ]
  },
  {
   "cell_type": "code",
   "execution_count": 148,
   "id": "da907b00",
   "metadata": {},
   "outputs": [],
   "source": [
    "computer, player = deal()"
   ]
  },
  {
   "cell_type": "code",
   "execution_count": 149,
   "id": "4ce5363f",
   "metadata": {},
   "outputs": [
    {
     "name": "stdout",
     "output_type": "stream",
     "text": [
      "[14, 8]\n",
      "[13, 1]\n"
     ]
    }
   ],
   "source": [
    "print(computer)\n",
    "\n",
    "print(player)"
   ]
  }
 ],
 "metadata": {
  "kernelspec": {
   "display_name": "Python 3 (ipykernel)",
   "language": "python",
   "name": "python3"
  },
  "language_info": {
   "codemirror_mode": {
    "name": "ipython",
    "version": 3
   },
   "file_extension": ".py",
   "mimetype": "text/x-python",
   "name": "python",
   "nbconvert_exporter": "python",
   "pygments_lexer": "ipython3",
   "version": "3.11.7"
  }
 },
 "nbformat": 4,
 "nbformat_minor": 5
}
