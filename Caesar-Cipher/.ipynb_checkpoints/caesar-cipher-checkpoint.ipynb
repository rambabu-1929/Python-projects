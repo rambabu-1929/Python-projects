{
 "cells": [
  {
   "cell_type": "markdown",
   "id": "c64dddd4",
   "metadata": {},
   "source": [
    "# Caesar Cipher"
   ]
  },
  {
   "cell_type": "code",
   "execution_count": 137,
   "id": "189446a4",
   "metadata": {},
   "outputs": [],
   "source": [
    "from letters import alphas, decodes\n",
    "from IPython.display import clear_output"
   ]
  },
  {
   "cell_type": "code",
   "execution_count": 111,
   "id": "bb06fd68",
   "metadata": {},
   "outputs": [],
   "source": [
    "def encode(p_text,p_swft):\n",
    "    alphabets = alphas()\n",
    "    swift_value = alphabets[:p_swft]\n",
    "    remaining_alphas = alphabets[p_swft:]\n",
    "    encoded_alphas = remaining_alphas + swift_value\n",
    "\n",
    "    \n",
    "    encoded_word = ''\n",
    "    for word in p_text:\n",
    "        if word in alphabets:\n",
    "            curr_val = alphabets.index(word)\n",
    "            encoded_word+=encoded_alphas[curr_val]\n",
    "        else:\n",
    "            encoded_word+=word\n",
    "    \n",
    "    print(encoded_word)"
   ]
  },
  {
   "cell_type": "code",
   "execution_count": 121,
   "id": "81d4407a",
   "metadata": {},
   "outputs": [],
   "source": [
    "def decode(p_text,p_swft):\n",
    "    alphabets = alphas()\n",
    "    swift_value = alphabets[:p_swft]\n",
    "    remaining_alphas = alphabets[p_swft:]\n",
    "    decoded_alphas = remaining_alphas + swift_value\n",
    "\n",
    "    \n",
    "    decoded_word = ''\n",
    "    for word in p_text:\n",
    "        if word in alphabets:\n",
    "            curr_val = decoded_alphas.index(word)\n",
    "            decoded_word+=alphabets[curr_val]\n",
    "        else:\n",
    "            decoded_word+=word\n",
    "    \n",
    "    print(decoded_word)"
   ]
  },
  {
   "cell_type": "code",
   "execution_count": 149,
   "id": "fd494231",
   "metadata": {},
   "outputs": [],
   "source": [
    "def caesar_cipher():\n",
    "    print('Welcome to caesar cipher ....!!!')\n",
    "    is_game_on = False\n",
    "    \n",
    "    while not is_game_on:\n",
    "        cryption_type = input('What do you want to do\\nEncode or Decode??? ')\n",
    "\n",
    "        while cryption_type.lower() not in ['encode','decode']:\n",
    "            print('Either choose encode or decode')\n",
    "            cryption_type = input('What do you want to do\\nEncode or Decode??? ')\n",
    "\n",
    "        text_type = ''\n",
    "        if cryption_type.lower() == 'encode':\n",
    "            text_type = 'Encode'\n",
    "        else:\n",
    "            text_type = 'Decode'\n",
    "\n",
    "        p_text = input(f'Enter your text for {text_type}')\n",
    "\n",
    "        p_swft = int(input('How many swifts do you want?\\n'))\n",
    "\n",
    "        if cryption_type.lower() == 'encode':\n",
    "            encode(p_text,p_swft)\n",
    "        else:\n",
    "            decode(p_text,p_swft)\n",
    "        \n",
    "        is_continue = input('Do you want to continue Y or N??\\n')\n",
    "        \n",
    "        if is_continue == 'Y':\n",
    "            clear_output()\n",
    "        else:\n",
    "            print('Thanks for your time :)')\n",
    "            is_game_on = True"
   ]
  },
  {
   "cell_type": "code",
   "execution_count": null,
   "id": "9b0568b6",
   "metadata": {},
   "outputs": [],
   "source": [
    "caesar_cipher()"
   ]
  }
 ],
 "metadata": {
  "kernelspec": {
   "display_name": "Python 3 (ipykernel)",
   "language": "python",
   "name": "python3"
  },
  "language_info": {
   "codemirror_mode": {
    "name": "ipython",
    "version": 3
   },
   "file_extension": ".py",
   "mimetype": "text/x-python",
   "name": "python",
   "nbconvert_exporter": "python",
   "pygments_lexer": "ipython3",
   "version": "3.11.7"
  }
 },
 "nbformat": 4,
 "nbformat_minor": 5
}
