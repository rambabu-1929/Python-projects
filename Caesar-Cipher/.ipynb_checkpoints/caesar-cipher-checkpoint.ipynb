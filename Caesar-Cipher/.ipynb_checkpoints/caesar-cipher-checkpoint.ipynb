{
 "cells": [
  {
   "cell_type": "markdown",
   "id": "c64dddd4",
   "metadata": {},
   "source": [
    "# Caesar Cipher"
   ]
  },
  {
   "cell_type": "code",
   "execution_count": 2,
   "id": "189446a4",
   "metadata": {},
   "outputs": [],
   "source": [
    "from letters import alphas, decodes"
   ]
  },
  {
   "cell_type": "code",
   "execution_count": null,
   "id": "5cc2ba4b",
   "metadata": {},
   "outputs": [],
   "source": []
  }
 ],
 "metadata": {
  "kernelspec": {
   "display_name": "Python 3 (ipykernel)",
   "language": "python",
   "name": "python3"
  },
  "language_info": {
   "codemirror_mode": {
    "name": "ipython",
    "version": 3
   },
   "file_extension": ".py",
   "mimetype": "text/x-python",
   "name": "python",
   "nbconvert_exporter": "python",
   "pygments_lexer": "ipython3",
   "version": "3.11.7"
  }
 },
 "nbformat": 4,
 "nbformat_minor": 5
}
