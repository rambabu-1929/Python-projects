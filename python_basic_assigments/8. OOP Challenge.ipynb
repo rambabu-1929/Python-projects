{
 "cells": [
  {
   "cell_type": "markdown",
   "metadata": {},
   "source": [
    "# Basic Bank Transcation Project\n",
    "\n",
    "The Follwing code allows you to create and do some basic operations like deposit, balance check, withdraw.\n",
    "\n",
    "Craete a class and run the following code to test the methods..."
   ]
  },
  {
   "cell_type": "code",
   "execution_count": 160,
   "metadata": {},
   "outputs": [],
   "source": [
    "class SwizBank:\n",
    "    \n",
    "    def __init__(self, acc_holder,open_balance):\n",
    "        self.acc_holder = acc_holder\n",
    "        self.open_balance = open_balance\n",
    "        print(f'{acc_holder} Thanks for Banking with us!!\\nyour opening balance is {open_balance}')\n",
    "        \n",
    "    def check_balance(self):\n",
    "        print(f'Current Balance is {self.open_balance}')\n",
    "        \n",
    "    def deposit(self,dep_amt):\n",
    "        self.open_balance += dep_amt\n",
    "        print(f'Amount {dep_amt} has been deposited to your account.\\nCurrent Balance is {self.open_balance}')\n",
    "        \n",
    "    def withdraw(self,wthdrw):\n",
    "        if (wthdrw <= self.open_balance) and (self.open_balance <= 50):\n",
    "            print('Cannot withdarw beyond the minimum Limit (50).')\n",
    "        elif (wthdrw <= self.open_balance):\n",
    "            if ((self.open_balance-wthdrw) <= 50):\n",
    "                print('Cannot withdarw beyond the minimum Limit (50).')\n",
    "            else:\n",
    "                self.open_balance-=wthdrw\n",
    "                print(f'Amount {wthdrw} has been withdrawn.\\nCurrent Balance is {self.open_balance}')\n",
    "        else:\n",
    "            print(f'Not enough balance in your Account.\\nAvailable balance is {self.open_balance}')\n",
    "            \n",
    "    def __str__(self):\n",
    "        return f'{self.acc_holder}\\'s account has {self.open_balance}.'"
   ]
  },
  {
   "cell_type": "code",
   "execution_count": null,
   "metadata": {},
   "outputs": [],
   "source": [
    "Jacob = SwizBank('Jacob',10000)"
   ]
  },
  {
   "cell_type": "code",
   "execution_count": null,
   "metadata": {},
   "outputs": [],
   "source": [
    "print(Jacob)"
   ]
  },
  {
   "cell_type": "code",
   "execution_count": null,
   "metadata": {},
   "outputs": [],
   "source": [
    "Jacob.check_balance()"
   ]
  },
  {
   "cell_type": "code",
   "execution_count": null,
   "metadata": {},
   "outputs": [],
   "source": [
    "jacob.deposit(2000)"
   ]
  },
  {
   "cell_type": "code",
   "execution_count": null,
   "metadata": {},
   "outputs": [],
   "source": [
    "Jacob.withdraw(1000)"
   ]
  },
  {
   "cell_type": "code",
   "execution_count": null,
   "metadata": {},
   "outputs": [],
   "source": [
    "Jacob.check_balance()"
   ]
  },
  {
   "cell_type": "markdown",
   "metadata": {},
   "source": [
    "## Good job!"
   ]
  }
 ],
 "metadata": {
  "kernelspec": {
   "display_name": "Python 3 (ipykernel)",
   "language": "python",
   "name": "python3"
  },
  "language_info": {
   "codemirror_mode": {
    "name": "ipython",
    "version": 3
   },
   "file_extension": ".py",
   "mimetype": "text/x-python",
   "name": "python",
   "nbconvert_exporter": "python",
   "pygments_lexer": "ipython3",
   "version": "3.11.7"
  }
 },
 "nbformat": 4,
 "nbformat_minor": 2
}
