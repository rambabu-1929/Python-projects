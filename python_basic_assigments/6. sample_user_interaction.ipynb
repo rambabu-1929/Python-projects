{
 "cells": [
  {
   "cell_type": "markdown",
   "id": "a981803a",
   "metadata": {},
   "source": [
    "<h2>Sample User Interation</h2>"
   ]
  },
  {
   "cell_type": "code",
   "execution_count": 25,
   "id": "c599f966",
   "metadata": {},
   "outputs": [],
   "source": [
    "from IPython.display import clear_output\n",
    "\n",
    "game_list = [0,1,2]"
   ]
  },
  {
   "cell_type": "code",
   "execution_count": 26,
   "id": "de75b429",
   "metadata": {},
   "outputs": [],
   "source": [
    "def print_game(game_list):\n",
    "    print('Here is your list')\n",
    "    return game_list"
   ]
  },
  {
   "cell_type": "code",
   "execution_count": 27,
   "id": "bbec7ef6",
   "metadata": {},
   "outputs": [
    {
     "name": "stdout",
     "output_type": "stream",
     "text": [
      "Here is your list\n"
     ]
    },
    {
     "data": {
      "text/plain": [
       "[0, 1, 2]"
      ]
     },
     "execution_count": 27,
     "metadata": {},
     "output_type": "execute_result"
    }
   ],
   "source": [
    "print_game(game_list)"
   ]
  },
  {
   "cell_type": "code",
   "execution_count": 14,
   "id": "c58cc209",
   "metadata": {},
   "outputs": [],
   "source": [
    "def user_choice():\n",
    "    user_input = input('Pick any one (0-2)\\n')\n",
    "    \n",
    "    while user_input not in ['0','1','2']:\n",
    "        print('Choose only from the above')\n",
    "        user_input = input('Pick any one (0-2)\\n')\n",
    "    return int(user_input)"
   ]
  },
  {
   "cell_type": "code",
   "execution_count": 15,
   "id": "02c103cc",
   "metadata": {},
   "outputs": [],
   "source": [
    "def value_replace(game_list,user_input):\n",
    "    chosen_choice = input('Enter the value for replace\\n')\n",
    "    \n",
    "    game_list[user_input] = chosen_choice\n",
    "    \n",
    "    return game_list"
   ]
  },
  {
   "cell_type": "code",
   "execution_count": 16,
   "id": "9990b54f",
   "metadata": {},
   "outputs": [
    {
     "name": "stdout",
     "output_type": "stream",
     "text": [
      "Enter the value for replace\n",
      "test\n"
     ]
    },
    {
     "data": {
      "text/plain": [
       "[0, 'test', 2]"
      ]
     },
     "execution_count": 16,
     "metadata": {},
     "output_type": "execute_result"
    }
   ],
   "source": [
    "value_replace(game_list,1)"
   ]
  },
  {
   "cell_type": "code",
   "execution_count": 28,
   "id": "4092074e",
   "metadata": {},
   "outputs": [],
   "source": [
    "def game_on():\n",
    "    game_list = [0,1,2]\n",
    "    \n",
    "    is_game_on = True\n",
    "    \n",
    "    while is_game_on:\n",
    "        user_chosen = user_choice()\n",
    "        \n",
    "        updated_game_list = value_replace(game_list, user_chosen)\n",
    "        \n",
    "        print(game_list)\n",
    "        print_game(updated_game_list)\n",
    "        \n",
    "        is_continue = input('Do u want to continue Y or N?\\n')\n",
    "        \n",
    "        while is_continue not in ['Y','N']:\n",
    "            print('Choose either Y or N')\n",
    "            is_continue = input('Do u want to continue Y or N?\\n')\n",
    "        \n",
    "        if is_continue == 'Y':\n",
    "            clear_output()            \n",
    "        else:\n",
    "            is_game_on = False"
   ]
  }
 ],
 "metadata": {
  "kernelspec": {
   "display_name": "Python 3 (ipykernel)",
   "language": "python",
   "name": "python3"
  },
  "language_info": {
   "codemirror_mode": {
    "name": "ipython",
    "version": 3
   },
   "file_extension": ".py",
   "mimetype": "text/x-python",
   "name": "python",
   "nbconvert_exporter": "python",
   "pygments_lexer": "ipython3",
   "version": "3.11.5"
  }
 },
 "nbformat": 4,
 "nbformat_minor": 5
}
