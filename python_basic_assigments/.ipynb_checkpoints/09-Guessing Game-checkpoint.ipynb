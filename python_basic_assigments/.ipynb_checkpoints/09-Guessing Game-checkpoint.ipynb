{
 "cells": [
  {
   "cell_type": "markdown",
   "metadata": {},
   "source": [
    "___\n",
    "\n",
    "<a href='https://www.udemy.com/user/joseportilla/'><img src='../Pierian_Data_Logo.png'/></a>\n",
    "___\n",
    "<center><em>Content Copyright by Pierian Data</em></center>"
   ]
  },
  {
   "cell_type": "markdown",
   "metadata": {},
   "source": [
    "# Guessing Game Challenge\n",
    "\n",
    "Let's use `while` loops to create a guessing game.\n",
    "\n",
    "The Challenge:\n",
    "\n",
    "Write a program that picks a random integer from 1 to 100, and has players guess the number. The rules are:\n",
    "\n",
    "1. If a player's guess is less than 1 or greater than 100, say \"OUT OF BOUNDS\"\n",
    "2. On a player's first turn, if their guess is\n",
    " * within 10 of the number, return \"WARM!\"\n",
    " * further than 10 away from the number, return \"COLD!\"\n",
    "3. On all subsequent turns, if a guess is \n",
    " * closer to the number than the previous guess return \"WARMER!\"\n",
    " * farther from the number than the previous guess, return \"COLDER!\"\n",
    "4. When the player's guess equals the number, tell them they've guessed correctly *and* how many guesses it took!\n",
    "\n",
    "You can try this from scratch, or follow the steps outlined below. A separate Solution notebook has been provided. Good luck!\n"
   ]
  },
  {
   "cell_type": "markdown",
   "metadata": {},
   "source": [
    "#### First, pick a random integer from 1 to 100 using the random module and assign it to a variable\n",
    "\n",
    "Note: `random.randint(a,b)` returns a random integer in range `[a, b]`, including both end points."
   ]
  },
  {
   "cell_type": "code",
   "execution_count": 30,
   "metadata": {
    "scrolled": true
   },
   "outputs": [
    {
     "name": "stdout",
     "output_type": "stream",
     "text": [
      "39\n",
      "Welcome to number guessing challenge ....!\n",
      "Guess the number and beat the computer ....!\n",
      "Guess any number from 1 to 100\n",
      "20\n",
      "Warm\n",
      "[0, 20]\n",
      "Guess any number from 1 to 100\n",
      "15\n",
      "Colder\n",
      "[0, 20, 15]\n",
      "Guess any number from 1 to 100\n",
      "40\n",
      "Warmer\n",
      "[0, 20, 15, 40]\n",
      "Guess any number from 1 to 100\n",
      "35\n",
      "Colder\n",
      "[0, 20, 15, 40, 35]\n",
      "Guess any number from 1 to 100\n",
      "39\n",
      "Congrates ...! you guessed the correct number\n"
     ]
    }
   ],
   "source": [
    "import random\n",
    "\n",
    "rand_num = random.randrange(1,101)\n",
    "\n",
    "print(rand_num)\n",
    "\n",
    "print('Welcome to number guessing challenge ....!')\n",
    "print('Guess the number and beat the computer ....!')\n",
    "\n",
    "\n",
    "\n",
    "user_input = int(input('Guess any number from 1 to 100\\n'))\n",
    "\n",
    "while int(user_input) > 100:\n",
    "    print('Enter only numbers from 1 to 100')\n",
    "    user_input = int(input('Guess any number from 1 to 100\\n'))\n",
    "    \n",
    "user_guesses = [0]\n",
    "    \n",
    "while rand_num != user_input:\n",
    "    \n",
    "    if len(user_guesses) > 1:\n",
    "        if abs(rand_num - user_input) < abs(rand_num - user_guesses[-1]):\n",
    "            print('Warmer')\n",
    "        else:\n",
    "            print('Colder')\n",
    "    else:\n",
    "        if abs(rand_num - user_input) <= 10:\n",
    "            print('Cold')\n",
    "        else:\n",
    "            print('Warm')\n",
    "            \n",
    "    user_guesses.append(user_input)\n",
    "        \n",
    "    print(user_guesses)\n",
    "        \n",
    "    user_input = int(input('Guess any number from 1 to 100\\n'))\n",
    "    \n",
    "    while int(user_input) > 100:\n",
    "        print('Enter only numbers from 1 to 100')\n",
    "        user_input = int(input('Guess any number from 1 to 100\\n'))\n",
    "        \n",
    "print(f'Congrates ...! you guessed the correct number')"
   ]
  },
  {
   "cell_type": "markdown",
   "metadata": {},
   "source": [
    "#### Next, print an introduction to the game and explain the rules"
   ]
  },
  {
   "cell_type": "code",
   "execution_count": 8,
   "metadata": {},
   "outputs": [
    {
     "name": "stdout",
     "output_type": "stream",
     "text": [
      "0\n",
      "False\n"
     ]
    }
   ],
   "source": [
    "guesses = [0,34]\n",
    "\n",
    "print(guesses[-2])\n",
    "\n",
    "if guesses[-2]:\n",
    "    print(True)\n",
    "else:\n",
    "    print(False)"
   ]
  },
  {
   "cell_type": "markdown",
   "metadata": {},
   "source": [
    "#### Create a list to store guesses\n",
    "\n",
    "Hint: zero is a good placeholder value. It's useful because it evaluates to \"False\""
   ]
  },
  {
   "cell_type": "code",
   "execution_count": null,
   "metadata": {
    "collapsed": true
   },
   "outputs": [],
   "source": []
  },
  {
   "cell_type": "markdown",
   "metadata": {},
   "source": [
    "#### Write a `while` loop that asks for a valid guess. Test it a few times to make sure it works."
   ]
  },
  {
   "cell_type": "code",
   "execution_count": null,
   "metadata": {
    "collapsed": true
   },
   "outputs": [],
   "source": [
    "while True:\n",
    "    \n",
    "    pass"
   ]
  },
  {
   "cell_type": "markdown",
   "metadata": {},
   "source": [
    "#### Write a `while` loop that compares the player's guess to our number. If the player guesses correctly, break from the loop. Otherwise, tell the player if they're warmer or colder, and continue asking for guesses.\n",
    "\n",
    "Some hints:\n",
    "* it may help to sketch out all possible combinations on paper first!\n",
    "* you can use the `abs()` function to find the positive difference between two numbers\n",
    "* if you append all new guesses to the list, then the previous guess is given as `guesses[-2]`"
   ]
  },
  {
   "cell_type": "code",
   "execution_count": null,
   "metadata": {
    "collapsed": true
   },
   "outputs": [],
   "source": [
    "while True:\n",
    "\n",
    "    # we can copy the code from above to take an input\n",
    "\n",
    "    pass"
   ]
  },
  {
   "cell_type": "markdown",
   "metadata": {},
   "source": [
    "That's it! You've just programmed your first game!\n",
    "\n",
    "In the next section we'll learn how to turn some of these repetitive actions into *functions* that can be called whenever we need them."
   ]
  },
  {
   "cell_type": "markdown",
   "metadata": {},
   "source": [
    "### Good Job!"
   ]
  }
 ],
 "metadata": {
  "kernelspec": {
   "display_name": "Python 3 (ipykernel)",
   "language": "python",
   "name": "python3"
  },
  "language_info": {
   "codemirror_mode": {
    "name": "ipython",
    "version": 3
   },
   "file_extension": ".py",
   "mimetype": "text/x-python",
   "name": "python",
   "nbconvert_exporter": "python",
   "pygments_lexer": "ipython3",
   "version": "3.11.7"
  }
 },
 "nbformat": 4,
 "nbformat_minor": 2
}
