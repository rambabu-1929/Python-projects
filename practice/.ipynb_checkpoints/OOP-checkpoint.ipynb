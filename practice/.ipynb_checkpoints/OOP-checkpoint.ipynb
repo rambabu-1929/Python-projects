{
 "cells": [
  {
   "cell_type": "markdown",
   "id": "f3207480",
   "metadata": {},
   "source": [
    "<h1>O O P</h1>"
   ]
  },
  {
   "cell_type": "code",
   "execution_count": 6,
   "id": "ad52affa",
   "metadata": {},
   "outputs": [],
   "source": [
    "class Animal():\n",
    "    \n",
    "    def __init__(self):\n",
    "        print('Animal Created')\n",
    "        \n",
    "    def speak(self):\n",
    "        return f'{self.name} says something'"
   ]
  },
  {
   "cell_type": "code",
   "execution_count": 9,
   "id": "85972651",
   "metadata": {},
   "outputs": [],
   "source": [
    "class Dog(Animal):\n",
    "    \n",
    "    def __init__(self,name,breed):\n",
    "        self.name = name\n",
    "        self.breed = breed\n",
    "        print('Dog Created')\n",
    "    \n",
    "    def do_fun(self):\n",
    "        return f'{self.name} does roll roll roll ...!!!'"
   ]
  },
  {
   "cell_type": "code",
   "execution_count": 10,
   "id": "f71e7324",
   "metadata": {},
   "outputs": [],
   "source": [
    "class Cat(Animal):\n",
    "    \n",
    "    def __init__(self,name,breed):\n",
    "        self.name = name\n",
    "        self.breed = breed\n",
    "        print('Cat Created')\n",
    "    \n",
    "    def do_fun(self):\n",
    "        return f'{self.name} does burr burr burr ...!!!'"
   ]
  },
  {
   "cell_type": "code",
   "execution_count": 11,
   "id": "ab807524",
   "metadata": {},
   "outputs": [
    {
     "name": "stdout",
     "output_type": "stream",
     "text": [
      "Dog Created\n",
      "Cat Created\n"
     ]
    }
   ],
   "source": [
    "sam_the_dog = Dog('Sam','Labradour')\n",
    "\n",
    "leo_the_cat = Cat('Leo','Lynx')"
   ]
  },
  {
   "cell_type": "code",
   "execution_count": 12,
   "id": "be09ccc7",
   "metadata": {},
   "outputs": [
    {
     "name": "stdout",
     "output_type": "stream",
     "text": [
      "Sam does roll roll roll ...!!!\n",
      "Leo does burr burr burr ...!!!\n"
     ]
    }
   ],
   "source": [
    "print(sam_the_dog.do_fun())\n",
    "print(leo_the_cat.do_fun())"
   ]
  },
  {
   "cell_type": "code",
   "execution_count": 19,
   "id": "221dfcfe",
   "metadata": {},
   "outputs": [
    {
     "name": "stdout",
     "output_type": "stream",
     "text": [
      "Sam does roll roll roll ...!!!\n",
      "Sam says something\n",
      "Leo does burr burr burr ...!!!\n",
      "Leo says something\n"
     ]
    }
   ],
   "source": [
    "for pet_class in [sam_the_dog,leo_the_cat]:\n",
    "    print(pet_class.do_fun())\n",
    "    print(pet_class.speak())"
   ]
  },
  {
   "cell_type": "code",
   "execution_count": 14,
   "id": "1ac9604c",
   "metadata": {},
   "outputs": [],
   "source": [
    "def pet_activities(pet):\n",
    "    return pet.do_fun()"
   ]
  },
  {
   "cell_type": "code",
   "execution_count": 15,
   "id": "270d1179",
   "metadata": {},
   "outputs": [
    {
     "data": {
      "text/plain": [
       "'Leo does burr burr burr ...!!!'"
      ]
     },
     "execution_count": 15,
     "metadata": {},
     "output_type": "execute_result"
    }
   ],
   "source": [
    "pet_activities(leo_the_cat)"
   ]
  },
  {
   "cell_type": "code",
   "execution_count": 20,
   "id": "edb4c336",
   "metadata": {},
   "outputs": [
    {
     "data": {
      "text/plain": [
       "'Leo says something'"
      ]
     },
     "execution_count": 20,
     "metadata": {},
     "output_type": "execute_result"
    }
   ],
   "source": [
    "leo_the_cat.speak()"
   ]
  },
  {
   "cell_type": "code",
   "execution_count": 36,
   "id": "f4a5a24d",
   "metadata": {},
   "outputs": [],
   "source": [
    "class Book():\n",
    "    \n",
    "    def __init__(self,title,author,pages):\n",
    "        self.title = title\n",
    "        self.author = author\n",
    "        self.pages = pages\n",
    "        \n",
    "    def __str__(self):\n",
    "        return f'{self.title} by {self.author}'\n",
    "    \n",
    "    def __len__(self):\n",
    "        return self.pages\n",
    "    \n",
    "    def __del__(self):\n",
    "        print(f'{self.title} has been deleted.')"
   ]
  },
  {
   "cell_type": "code",
   "execution_count": 42,
   "id": "f76b9b8f",
   "metadata": {},
   "outputs": [],
   "source": [
    "Harry_Porter = Book('Harry Porter','J.K Rowling',200)"
   ]
  },
  {
   "cell_type": "code",
   "execution_count": 43,
   "id": "11fde39f",
   "metadata": {},
   "outputs": [
    {
     "name": "stdout",
     "output_type": "stream",
     "text": [
      "Harry Porter by J.K Rowling\n"
     ]
    }
   ],
   "source": [
    "print(Harry_Porter)"
   ]
  },
  {
   "cell_type": "code",
   "execution_count": 44,
   "id": "b133a288",
   "metadata": {},
   "outputs": [
    {
     "data": {
      "text/plain": [
       "200"
      ]
     },
     "execution_count": 44,
     "metadata": {},
     "output_type": "execute_result"
    }
   ],
   "source": [
    "len(Harry_Porter)"
   ]
  },
  {
   "cell_type": "code",
   "execution_count": 45,
   "id": "1192de80",
   "metadata": {},
   "outputs": [
    {
     "name": "stdout",
     "output_type": "stream",
     "text": [
      "Harry Porter has been deleted.\n"
     ]
    }
   ],
   "source": [
    "del Harry_Porter"
   ]
  }
 ],
 "metadata": {
  "kernelspec": {
   "display_name": "Python 3 (ipykernel)",
   "language": "python",
   "name": "python3"
  },
  "language_info": {
   "codemirror_mode": {
    "name": "ipython",
    "version": 3
   },
   "file_extension": ".py",
   "mimetype": "text/x-python",
   "name": "python",
   "nbconvert_exporter": "python",
   "pygments_lexer": "ipython3",
   "version": "3.11.7"
  }
 },
 "nbformat": 4,
 "nbformat_minor": 5
}
