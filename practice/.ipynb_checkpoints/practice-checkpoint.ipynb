{
 "cells": [
  {
   "cell_type": "code",
   "execution_count": 38,
   "id": "6b749173",
   "metadata": {},
   "outputs": [],
   "source": [
    "import random\n",
    "\n",
    "new_list = [1,2,3,4,5,6]\n",
    "\n",
    "# new_list.pop()"
   ]
  },
  {
   "cell_type": "code",
   "execution_count": 9,
   "id": "2716362f",
   "metadata": {},
   "outputs": [
    {
     "data": {
      "text/plain": [
       "0"
      ]
     },
     "execution_count": 9,
     "metadata": {},
     "output_type": "execute_result"
    }
   ],
   "source": [
    "new_list.index(1)"
   ]
  },
  {
   "cell_type": "code",
   "execution_count": 10,
   "id": "0bd4f697",
   "metadata": {},
   "outputs": [],
   "source": [
    "new_list.insert(6,'6')"
   ]
  },
  {
   "cell_type": "code",
   "execution_count": 11,
   "id": "30b740fa",
   "metadata": {},
   "outputs": [
    {
     "data": {
      "text/plain": [
       "[1, 2, 3, 4, 5, 6, '6']"
      ]
     },
     "execution_count": 11,
     "metadata": {},
     "output_type": "execute_result"
    }
   ],
   "source": [
    "new_list"
   ]
  },
  {
   "cell_type": "code",
   "execution_count": 12,
   "id": "5d95722c",
   "metadata": {},
   "outputs": [],
   "source": [
    "def my_func():\n",
    "    print('New Function Created.')"
   ]
  },
  {
   "cell_type": "code",
   "execution_count": 13,
   "id": "d46ffb9a",
   "metadata": {},
   "outputs": [
    {
     "name": "stdout",
     "output_type": "stream",
     "text": [
      "New Function Created.\n"
     ]
    }
   ],
   "source": [
    "my_func()"
   ]
  },
  {
   "cell_type": "code",
   "execution_count": 21,
   "id": "84baf927",
   "metadata": {},
   "outputs": [
    {
     "name": "stdout",
     "output_type": "stream",
     "text": [
      "15\n"
     ]
    }
   ],
   "source": [
    "def get_random_value():\n",
    "    rand_num = random.randrange(0,19)\n",
    "    \n",
    "    return rand_num\n",
    "\n",
    "curr_value = get_random_value()\n",
    "\n",
    "print(curr_value)"
   ]
  },
  {
   "cell_type": "code",
   "execution_count": 30,
   "id": "ca58fcbe",
   "metadata": {},
   "outputs": [],
   "source": [
    "stock_Price = [('appl',100),('gogl',200),('micsft',300),('sptfy',800)]"
   ]
  },
  {
   "cell_type": "code",
   "execution_count": 27,
   "id": "c2421645",
   "metadata": {},
   "outputs": [
    {
     "name": "stdout",
     "output_type": "stream",
     "text": [
      "100\n",
      "200\n",
      "300\n"
     ]
    }
   ],
   "source": [
    "for item,value in stock_Price:\n",
    "    print(value)"
   ]
  },
  {
   "cell_type": "code",
   "execution_count": 31,
   "id": "7d977d4d",
   "metadata": {},
   "outputs": [],
   "source": [
    "def stock_check(stk_list):\n",
    "    \n",
    "    current_max = 0\n",
    "    employee_of_month = ''\n",
    "    \n",
    "    for item, value in stock_Price:\n",
    "        if value > current_max:\n",
    "            current_max = value\n",
    "            employee_of_month = item\n",
    "        else:\n",
    "            pass\n",
    "    return (employee_of_month, current_max)"
   ]
  },
  {
   "cell_type": "code",
   "execution_count": 33,
   "id": "6d9dbe99",
   "metadata": {},
   "outputs": [
    {
     "name": "stdout",
     "output_type": "stream",
     "text": [
      "<class 'tuple'>\n"
     ]
    }
   ],
   "source": [
    "cmpny = stock_check(stock_Price)\n",
    "\n",
    "print(type(cmpny))"
   ]
  },
  {
   "cell_type": "code",
   "execution_count": 35,
   "id": "a3636df3",
   "metadata": {},
   "outputs": [],
   "source": [
    "balls = ['O','X','X']"
   ]
  },
  {
   "cell_type": "code",
   "execution_count": 52,
   "id": "36aff790",
   "metadata": {},
   "outputs": [],
   "source": [
    "def get_shuffle():\n",
    "    random.shuffle(balls)\n",
    "    \n",
    "    return balls"
   ]
  },
  {
   "cell_type": "code",
   "execution_count": 59,
   "id": "ab6d56a3",
   "metadata": {},
   "outputs": [
    {
     "data": {
      "text/plain": [
       "['X', 'O', 'X']"
      ]
     },
     "execution_count": 59,
     "metadata": {},
     "output_type": "execute_result"
    }
   ],
   "source": [
    "get_shuffle()"
   ]
  },
  {
   "cell_type": "code",
   "execution_count": 64,
   "id": "1ffb2e0d",
   "metadata": {},
   "outputs": [],
   "source": [
    "def player_guess():\n",
    "    \n",
    "    shuffled_list = get_shuffle()\n",
    "    \n",
    "    user_guess = input('Pick a numer 0,1,2\\n')\n",
    "    \n",
    "    while user_guess not in ['0','1','2']:\n",
    "        print('Pnly pick 0 1 2')\n",
    "        user_guess = input('Pick a numer 0,1,2')\n",
    "    \n",
    "    if shuffled_list.index('O') == int(user_guess):\n",
    "        print(shuffled_list)\n",
    "        print('You Won !!')\n",
    "    else:\n",
    "        print(shuffled_list)\n",
    "        print('Try Again')"
   ]
  },
  {
   "cell_type": "code",
   "execution_count": 68,
   "id": "40d255ef",
   "metadata": {},
   "outputs": [
    {
     "name": "stdout",
     "output_type": "stream",
     "text": [
      "Pick a numer 0,1,2\n",
      "u\n",
      "Pnly pick 0 1 2\n",
      "Pick a numer 0,1,11\n",
      "['X', 'X', 'O']\n",
      "Try Again\n"
     ]
    }
   ],
   "source": [
    "player_guess()"
   ]
  },
  {
   "cell_type": "code",
   "execution_count": null,
   "id": "d1729646",
   "metadata": {},
   "outputs": [],
   "source": []
  }
 ],
 "metadata": {
  "kernelspec": {
   "display_name": "Python 3 (ipykernel)",
   "language": "python",
   "name": "python3"
  },
  "language_info": {
   "codemirror_mode": {
    "name": "ipython",
    "version": 3
   },
   "file_extension": ".py",
   "mimetype": "text/x-python",
   "name": "python",
   "nbconvert_exporter": "python",
   "pygments_lexer": "ipython3",
   "version": "3.11.7"
  }
 },
 "nbformat": 4,
 "nbformat_minor": 5
}
