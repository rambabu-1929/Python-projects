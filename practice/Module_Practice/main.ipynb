{
 "cells": [
  {
   "cell_type": "code",
   "execution_count": 1,
   "id": "3b37017c",
   "metadata": {},
   "outputs": [],
   "source": [
    "from mymodule import testFunction"
   ]
  },
  {
   "cell_type": "code",
   "execution_count": 2,
   "id": "2194287d",
   "metadata": {},
   "outputs": [
    {
     "data": {
      "text/plain": [
       "'I am Test file'"
      ]
     },
     "execution_count": 2,
     "metadata": {},
     "output_type": "execute_result"
    }
   ],
   "source": [
    "testFunction()"
   ]
  },
  {
   "cell_type": "code",
   "execution_count": null,
   "id": "f83d8077",
   "metadata": {},
   "outputs": [],
   "source": []
  }
 ],
 "metadata": {
  "kernelspec": {
   "display_name": "Python 3 (ipykernel)",
   "language": "python",
   "name": "python3"
  },
  "language_info": {
   "codemirror_mode": {
    "name": "ipython",
    "version": 3
   },
   "file_extension": ".py",
   "mimetype": "text/x-python",
   "name": "python",
   "nbconvert_exporter": "python",
   "pygments_lexer": "ipython3",
   "version": "3.11.7"
  }
 },
 "nbformat": 4,
 "nbformat_minor": 5
}
