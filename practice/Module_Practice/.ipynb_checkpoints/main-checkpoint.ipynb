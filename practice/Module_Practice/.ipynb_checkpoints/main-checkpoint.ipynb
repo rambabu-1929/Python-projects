{
 "cells": [
  {
   "cell_type": "code",
   "execution_count": 3,
   "id": "72be85e4",
   "metadata": {},
   "outputs": [],
   "source": [
    "def main_func():\n",
    "    return 'I am from Main File'"
   ]
  },
  {
   "cell_type": "code",
   "execution_count": 4,
   "id": "1037b099",
   "metadata": {},
   "outputs": [
    {
     "data": {
      "text/plain": [
       "'I am from Main File'"
      ]
     },
     "execution_count": 4,
     "metadata": {},
     "output_type": "execute_result"
    }
   ],
   "source": [
    "main_func()"
   ]
  }
 ],
 "metadata": {
  "kernelspec": {
   "display_name": "Python 3 (ipykernel)",
   "language": "python",
   "name": "python3"
  },
  "language_info": {
   "codemirror_mode": {
    "name": "ipython",
    "version": 3
   },
   "file_extension": ".py",
   "mimetype": "text/x-python",
   "name": "python",
   "nbconvert_exporter": "python",
   "pygments_lexer": "ipython3",
   "version": "3.11.7"
  }
 },
 "nbformat": 4,
 "nbformat_minor": 5
}
