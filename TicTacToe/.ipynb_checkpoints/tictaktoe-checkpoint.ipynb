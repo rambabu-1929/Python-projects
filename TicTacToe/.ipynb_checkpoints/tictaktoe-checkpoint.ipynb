{
 "cells": [
  {
   "cell_type": "code",
   "execution_count": 56,
   "metadata": {},
   "outputs": [],
   "source": [
    "from IPython.display import clear_output"
   ]
  },
  {
   "cell_type": "code",
   "execution_count": 87,
   "metadata": {},
   "outputs": [],
   "source": [
    "game_board = [' ',' ',' ',' ',' ',' ',' ',' ',' ']"
   ]
  },
  {
   "cell_type": "code",
   "execution_count": 117,
   "metadata": {},
   "outputs": [],
   "source": [
    "def game_reset():\n",
    "    game_board = [' ',' ',' ',' ',' ',' ',' ',' ',' ']\n",
    "    print(game_board)"
   ]
  },
  {
   "cell_type": "code",
   "execution_count": 118,
   "metadata": {},
   "outputs": [],
   "source": [
    "def display_board():\n",
    "    print(game_board[0] + ' | '+game_board[1] + ' | ' + game_board[2])\n",
    "    print('----------')\n",
    "    print(game_board[3] + ' | '+game_board[4] + ' | ' + game_board[5])\n",
    "    print('----------')\n",
    "    print(game_board[6] + ' | '+game_board[7] + ' | ' + game_board[8])"
   ]
  },
  {
   "cell_type": "code",
   "execution_count": 119,
   "metadata": {},
   "outputs": [],
   "source": [
    "def winner_check():\n",
    "    if (\n",
    "        ((game_board[0] == game_board[1] == game_board[2] == 'X') or\n",
    "        (game_board[3] == game_board[4] == game_board[5] == 'X') or\n",
    "        (game_board[6] == game_board[7] == game_board[8] == 'X') or\n",
    "        (game_board[0] == game_board[3] == game_board[6] == 'X') or\n",
    "        (game_board[1] == game_board[4] == game_board[7] == 'X') or\n",
    "        (game_board[2] == game_board[5] == game_board[8] == 'X') or\n",
    "        (game_board[0] == game_board[4] == game_board[8] == 'X') or\n",
    "        (game_board[2] == game_board[4] == game_board[6] == 'X') or (\n",
    "        (game_board[0] == game_board[1] == game_board[2] == 'O') or\n",
    "        (game_board[3] == game_board[4] == game_board[5] == 'O') or\n",
    "        (game_board[6] == game_board[7] == game_board[8] == 'O') or\n",
    "        (game_board[0] == game_board[3] == game_board[6] == 'O') or\n",
    "        (game_board[1] == game_board[4] == game_board[7] == 'O') or\n",
    "        (game_board[2] == game_board[5] == game_board[8] == 'O') or\n",
    "        (game_board[0] == game_board[4] == game_board[8] == 'O') or\n",
    "        (game_board[2] == game_board[4] == game_board[6] == 'O')))):\n",
    "        return True\n",
    "    else:\n",
    "        return False"
   ]
  },
  {
   "cell_type": "code",
   "execution_count": 120,
   "metadata": {},
   "outputs": [
    {
     "name": "stdout",
     "output_type": "stream",
     "text": [
      "[' ', ' ', ' ', ' ', ' ', ' ', ' ', ' ', ' ']\n"
     ]
    }
   ],
   "source": [
    "game_reset()"
   ]
  },
  {
   "cell_type": "code",
   "execution_count": 124,
   "metadata": {
    "scrolled": true
   },
   "outputs": [
    {
     "name": "stdout",
     "output_type": "stream",
     "text": [
      "X | O | X\n",
      "----------\n",
      "O | X |  \n",
      "----------\n",
      "O |   | X\n"
     ]
    }
   ],
   "source": [
    "display_board()"
   ]
  },
  {
   "cell_type": "code",
   "execution_count": 62,
   "metadata": {},
   "outputs": [],
   "source": [
    "def user_marker_choice():\n",
    "    marker_choices = {'X':'Player 1', 'O': 'Player 2'}\n",
    "    \n",
    "    marker = input('Choose your Marker X or O\\n')\n",
    "    \n",
    "    while marker not in ['X','O']:\n",
    "        print('Choose either X or O')\n",
    "        marker = input('Choose your Marker X or O\\n')\n",
    "        \n",
    "    print(f'{marker_choices[marker]} will go first.')\n",
    "    \n",
    "    chosen_marker = marker\n",
    "    \n",
    "    return chosen_marker"
   ]
  },
  {
   "cell_type": "code",
   "execution_count": 63,
   "metadata": {},
   "outputs": [],
   "source": [
    "def user_input():\n",
    "    user_choice = input('Choose your choice of placement (0-9)')\n",
    "    \n",
    "    while user_choice not in ['0','1','2','3','4','5','6','7','8']:\n",
    "        print('Choose only from the (0-8)')\n",
    "        user_choice = input('Choose your choice of placement (0-9)')\n",
    "        \n",
    "    return int(user_choice)"
   ]
  },
  {
   "cell_type": "code",
   "execution_count": 64,
   "metadata": {},
   "outputs": [],
   "source": [
    "def board_placement(board,marker,place):\n",
    "    board[place] = marker"
   ]
  },
  {
   "cell_type": "code",
   "execution_count": 65,
   "metadata": {},
   "outputs": [],
   "source": [
    "def marker_swap(curr_marker):\n",
    "    if curr_marker == 'X':\n",
    "        return 'O'\n",
    "    else:\n",
    "        return 'X'"
   ]
  },
  {
   "cell_type": "code",
   "execution_count": 69,
   "metadata": {},
   "outputs": [],
   "source": [
    "def game_on():\n",
    "    print('Welcome to TicTacToe ...... !!!!!')\n",
    "    game_reset()\n",
    "    \n",
    "    chosen_marker = user_marker_choice()\n",
    "    \n",
    "    chosen_place = user_input()\n",
    "        \n",
    "    while game_board[chosen_place] in ['X','O']:\n",
    "        print('Place already taken. Choose different.')\n",
    "        chosen_place = user_input()\n",
    "    \n",
    "    board_placement(game_board, chosen_marker, chosen_place)\n",
    "    display_board()\n",
    "    \n",
    "    is_winner = winner_check()\n",
    "    \n",
    "    while not is_winner:\n",
    "        chosen_place = user_input()\n",
    "        \n",
    "        while game_board[chosen_place] in ['X','O']:\n",
    "            print('Place already taken. Choose different.')\n",
    "            chosen_place = user_input()\n",
    "            \n",
    "        curr_marker = marker_swap(chosen_marker)\n",
    "        \n",
    "        chosen_marker = curr_marker\n",
    "               \n",
    "        clear_output()\n",
    "            \n",
    "        \n",
    "        board_placement(game_board, curr_marker, chosen_place)\n",
    "        display_board()\n",
    "        \n",
    "        is_winner = winner_check()\n",
    "        \n",
    "        if is_winner == True:\n",
    "            if curr_marker == 'X':\n",
    "                print('Player 1 wins ... !')\n",
    "                print(curr_marker)\n",
    "            else:\n",
    "                print('Player 2 wins ....!')\n",
    "                print(curr_marker)\n",
    "            break\n",
    "        else:\n",
    "            pass\n",
    "        \n",
    "        \n",
    "    return 'End of the Game'"
   ]
  },
  {
   "cell_type": "code",
   "execution_count": 95,
   "metadata": {},
   "outputs": [],
   "source": [
    "def tictactoe():\n",
    "    game_flag = True\n",
    "    \n",
    "    while game_flag:\n",
    "        game_on()\n",
    "\n",
    "        is_continue = input('Do u want ot continue Y or N?\\n')\n",
    "\n",
    "        while is_continue not in ['Y','N']:\n",
    "            print('Only choose from the list')\n",
    "            is_continue = input('Do u want ot continue Y or N?\\n')\n",
    "        \n",
    "        if is_continue == 'Y':\n",
    "            game_board = [' ',' ',' ',' ',' ',' ',' ',' ',' ']\n",
    "            pass\n",
    "        else:\n",
    "            game_flag = False"
   ]
  },
  {
   "cell_type": "code",
   "execution_count": 96,
   "metadata": {
    "scrolled": true
   },
   "outputs": [
    {
     "name": "stdout",
     "output_type": "stream",
     "text": [
      "X | O | X\n",
      "----------\n",
      "O | X |  \n",
      "----------\n",
      "O |   | X\n",
      "Player 1 wins ... !\n",
      "X\n",
      "Do u want ot continue Y or N?\n",
      "Y\n",
      "Welcome to TicTacToe ...... !!!!!\n",
      "[' ', ' ', ' ', ' ', ' ', ' ', ' ', ' ', ' ']\n",
      "Choose your Marker X or O\n",
      "X\n",
      "Player 1 will go first.\n",
      "Choose your choice of placement (0-9)0\n",
      "Place already taken. Choose different.\n"
     ]
    },
    {
     "ename": "KeyboardInterrupt",
     "evalue": "Interrupted by user",
     "output_type": "error",
     "traceback": [
      "\u001b[0;31m---------------------------------------------------------------------------\u001b[0m",
      "\u001b[0;31mKeyboardInterrupt\u001b[0m                         Traceback (most recent call last)",
      "Cell \u001b[0;32mIn[96], line 1\u001b[0m\n\u001b[0;32m----> 1\u001b[0m tictactoe()\n",
      "Cell \u001b[0;32mIn[95], line 6\u001b[0m, in \u001b[0;36mtictactoe\u001b[0;34m()\u001b[0m\n\u001b[1;32m      4\u001b[0m \u001b[38;5;28;01mwhile\u001b[39;00m game_flag:\n\u001b[1;32m      5\u001b[0m     game_board \u001b[38;5;241m=\u001b[39m [\u001b[38;5;124m'\u001b[39m\u001b[38;5;124m \u001b[39m\u001b[38;5;124m'\u001b[39m,\u001b[38;5;124m'\u001b[39m\u001b[38;5;124m \u001b[39m\u001b[38;5;124m'\u001b[39m,\u001b[38;5;124m'\u001b[39m\u001b[38;5;124m \u001b[39m\u001b[38;5;124m'\u001b[39m,\u001b[38;5;124m'\u001b[39m\u001b[38;5;124m \u001b[39m\u001b[38;5;124m'\u001b[39m,\u001b[38;5;124m'\u001b[39m\u001b[38;5;124m \u001b[39m\u001b[38;5;124m'\u001b[39m,\u001b[38;5;124m'\u001b[39m\u001b[38;5;124m \u001b[39m\u001b[38;5;124m'\u001b[39m,\u001b[38;5;124m'\u001b[39m\u001b[38;5;124m \u001b[39m\u001b[38;5;124m'\u001b[39m,\u001b[38;5;124m'\u001b[39m\u001b[38;5;124m \u001b[39m\u001b[38;5;124m'\u001b[39m,\u001b[38;5;124m'\u001b[39m\u001b[38;5;124m \u001b[39m\u001b[38;5;124m'\u001b[39m]\n\u001b[0;32m----> 6\u001b[0m     game_on()\n\u001b[1;32m      8\u001b[0m     is_continue \u001b[38;5;241m=\u001b[39m \u001b[38;5;28minput\u001b[39m(\u001b[38;5;124m'\u001b[39m\u001b[38;5;124mDo u want ot continue Y or N?\u001b[39m\u001b[38;5;130;01m\\n\u001b[39;00m\u001b[38;5;124m'\u001b[39m)\n\u001b[1;32m     10\u001b[0m     \u001b[38;5;28;01mwhile\u001b[39;00m is_continue \u001b[38;5;129;01mnot\u001b[39;00m \u001b[38;5;129;01min\u001b[39;00m [\u001b[38;5;124m'\u001b[39m\u001b[38;5;124mY\u001b[39m\u001b[38;5;124m'\u001b[39m,\u001b[38;5;124m'\u001b[39m\u001b[38;5;124mN\u001b[39m\u001b[38;5;124m'\u001b[39m]:\n",
      "Cell \u001b[0;32mIn[69], line 11\u001b[0m, in \u001b[0;36mgame_on\u001b[0;34m()\u001b[0m\n\u001b[1;32m      9\u001b[0m \u001b[38;5;28;01mwhile\u001b[39;00m game_board[chosen_place] \u001b[38;5;129;01min\u001b[39;00m [\u001b[38;5;124m'\u001b[39m\u001b[38;5;124mX\u001b[39m\u001b[38;5;124m'\u001b[39m,\u001b[38;5;124m'\u001b[39m\u001b[38;5;124mO\u001b[39m\u001b[38;5;124m'\u001b[39m]:\n\u001b[1;32m     10\u001b[0m     \u001b[38;5;28mprint\u001b[39m(\u001b[38;5;124m'\u001b[39m\u001b[38;5;124mPlace already taken. Choose different.\u001b[39m\u001b[38;5;124m'\u001b[39m)\n\u001b[0;32m---> 11\u001b[0m     chosen_place \u001b[38;5;241m=\u001b[39m user_input()\n\u001b[1;32m     13\u001b[0m board_placement(game_board, chosen_marker, chosen_place)\n\u001b[1;32m     14\u001b[0m display_board()\n",
      "Cell \u001b[0;32mIn[63], line 2\u001b[0m, in \u001b[0;36muser_input\u001b[0;34m()\u001b[0m\n\u001b[1;32m      1\u001b[0m \u001b[38;5;28;01mdef\u001b[39;00m \u001b[38;5;21muser_input\u001b[39m():\n\u001b[0;32m----> 2\u001b[0m     user_choice \u001b[38;5;241m=\u001b[39m \u001b[38;5;28minput\u001b[39m(\u001b[38;5;124m'\u001b[39m\u001b[38;5;124mChoose your choice of placement (0-9)\u001b[39m\u001b[38;5;124m'\u001b[39m)\n\u001b[1;32m      4\u001b[0m     \u001b[38;5;28;01mwhile\u001b[39;00m user_choice \u001b[38;5;129;01mnot\u001b[39;00m \u001b[38;5;129;01min\u001b[39;00m [\u001b[38;5;124m'\u001b[39m\u001b[38;5;124m0\u001b[39m\u001b[38;5;124m'\u001b[39m,\u001b[38;5;124m'\u001b[39m\u001b[38;5;124m1\u001b[39m\u001b[38;5;124m'\u001b[39m,\u001b[38;5;124m'\u001b[39m\u001b[38;5;124m2\u001b[39m\u001b[38;5;124m'\u001b[39m,\u001b[38;5;124m'\u001b[39m\u001b[38;5;124m3\u001b[39m\u001b[38;5;124m'\u001b[39m,\u001b[38;5;124m'\u001b[39m\u001b[38;5;124m4\u001b[39m\u001b[38;5;124m'\u001b[39m,\u001b[38;5;124m'\u001b[39m\u001b[38;5;124m5\u001b[39m\u001b[38;5;124m'\u001b[39m,\u001b[38;5;124m'\u001b[39m\u001b[38;5;124m6\u001b[39m\u001b[38;5;124m'\u001b[39m,\u001b[38;5;124m'\u001b[39m\u001b[38;5;124m7\u001b[39m\u001b[38;5;124m'\u001b[39m,\u001b[38;5;124m'\u001b[39m\u001b[38;5;124m8\u001b[39m\u001b[38;5;124m'\u001b[39m]:\n\u001b[1;32m      5\u001b[0m         \u001b[38;5;28mprint\u001b[39m(\u001b[38;5;124m'\u001b[39m\u001b[38;5;124mChoose only from the (0-8)\u001b[39m\u001b[38;5;124m'\u001b[39m)\n",
      "File \u001b[0;32m~/anaconda3/lib/python3.11/site-packages/ipykernel/kernelbase.py:1262\u001b[0m, in \u001b[0;36mKernel.raw_input\u001b[0;34m(self, prompt)\u001b[0m\n\u001b[1;32m   1260\u001b[0m     msg \u001b[38;5;241m=\u001b[39m \u001b[38;5;124m\"\u001b[39m\u001b[38;5;124mraw_input was called, but this frontend does not support input requests.\u001b[39m\u001b[38;5;124m\"\u001b[39m\n\u001b[1;32m   1261\u001b[0m     \u001b[38;5;28;01mraise\u001b[39;00m StdinNotImplementedError(msg)\n\u001b[0;32m-> 1262\u001b[0m \u001b[38;5;28;01mreturn\u001b[39;00m \u001b[38;5;28mself\u001b[39m\u001b[38;5;241m.\u001b[39m_input_request(\n\u001b[1;32m   1263\u001b[0m     \u001b[38;5;28mstr\u001b[39m(prompt),\n\u001b[1;32m   1264\u001b[0m     \u001b[38;5;28mself\u001b[39m\u001b[38;5;241m.\u001b[39m_parent_ident[\u001b[38;5;124m\"\u001b[39m\u001b[38;5;124mshell\u001b[39m\u001b[38;5;124m\"\u001b[39m],\n\u001b[1;32m   1265\u001b[0m     \u001b[38;5;28mself\u001b[39m\u001b[38;5;241m.\u001b[39mget_parent(\u001b[38;5;124m\"\u001b[39m\u001b[38;5;124mshell\u001b[39m\u001b[38;5;124m\"\u001b[39m),\n\u001b[1;32m   1266\u001b[0m     password\u001b[38;5;241m=\u001b[39m\u001b[38;5;28;01mFalse\u001b[39;00m,\n\u001b[1;32m   1267\u001b[0m )\n",
      "File \u001b[0;32m~/anaconda3/lib/python3.11/site-packages/ipykernel/kernelbase.py:1305\u001b[0m, in \u001b[0;36mKernel._input_request\u001b[0;34m(self, prompt, ident, parent, password)\u001b[0m\n\u001b[1;32m   1302\u001b[0m \u001b[38;5;28;01mexcept\u001b[39;00m \u001b[38;5;167;01mKeyboardInterrupt\u001b[39;00m:\n\u001b[1;32m   1303\u001b[0m     \u001b[38;5;66;03m# re-raise KeyboardInterrupt, to truncate traceback\u001b[39;00m\n\u001b[1;32m   1304\u001b[0m     msg \u001b[38;5;241m=\u001b[39m \u001b[38;5;124m\"\u001b[39m\u001b[38;5;124mInterrupted by user\u001b[39m\u001b[38;5;124m\"\u001b[39m\n\u001b[0;32m-> 1305\u001b[0m     \u001b[38;5;28;01mraise\u001b[39;00m \u001b[38;5;167;01mKeyboardInterrupt\u001b[39;00m(msg) \u001b[38;5;28;01mfrom\u001b[39;00m \u001b[38;5;28;01mNone\u001b[39;00m\n\u001b[1;32m   1306\u001b[0m \u001b[38;5;28;01mexcept\u001b[39;00m \u001b[38;5;167;01mException\u001b[39;00m:\n\u001b[1;32m   1307\u001b[0m     \u001b[38;5;28mself\u001b[39m\u001b[38;5;241m.\u001b[39mlog\u001b[38;5;241m.\u001b[39mwarning(\u001b[38;5;124m\"\u001b[39m\u001b[38;5;124mInvalid Message:\u001b[39m\u001b[38;5;124m\"\u001b[39m, exc_info\u001b[38;5;241m=\u001b[39m\u001b[38;5;28;01mTrue\u001b[39;00m)\n",
      "\u001b[0;31mKeyboardInterrupt\u001b[0m: Interrupted by user"
     ]
    }
   ],
   "source": [
    "tictactoe()"
   ]
  },
  {
   "cell_type": "code",
   "execution_count": null,
   "metadata": {},
   "outputs": [],
   "source": []
  }
 ],
 "metadata": {
  "kernelspec": {
   "display_name": "Python 3 (ipykernel)",
   "language": "python",
   "name": "python3"
  },
  "language_info": {
   "codemirror_mode": {
    "name": "ipython",
    "version": 3
   },
   "file_extension": ".py",
   "mimetype": "text/x-python",
   "name": "python",
   "nbconvert_exporter": "python",
   "pygments_lexer": "ipython3",
   "version": "3.11.7"
  }
 },
 "nbformat": 4,
 "nbformat_minor": 1
}
