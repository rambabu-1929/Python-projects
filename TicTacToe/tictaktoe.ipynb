{
 "cells": [
  {
   "cell_type": "markdown",
   "metadata": {},
   "source": [
    "# Milestone Project 1\n",
    "## Congratulations on making it to your first milestone!\n",
    "You've already learned a ton and are ready to work on a real project.\n",
    "\n",
    "Your assignment: Create a Tic Tac Toe game. You are free to use any IDE you like.\n",
    "\n",
    "Here are the requirements:\n",
    "\n",
    "* 2 players should be able to play the game (both sitting at the same computer)\n",
    "* The board should be printed out every time a player makes a move\n",
    "* You should be able to accept input of the player position and then place a symbol on the board\n",
    "\n",
    "Feel free to use Google to help you figure anything out (but don't just Google \"Tic Tac Toe in Python\" otherwise you won't learn anything!) Keep in mind that this project can take anywhere between several hours to several days.\n",
    "\n",
    "There are 4 Jupyter Notebooks related to this assignment:\n",
    "\n",
    "* This Assignment Notebook\n",
    "* A \"Walkthrough Steps Workbook\" Notebook\n",
    "* A \"Complete Walkthrough Solution\" Notebook\n",
    "* An \"Advanced Solution\" Notebook\n",
    "\n",
    "I encourage you to just try to start the project on your own without referencing any of the notebooks. If you get stuck, check out the next lecture which is a text lecture with helpful hints and steps. If you're still stuck after that, then check out the Walkthrough Steps Workbook, which breaks up the project in steps for you to solve. Still stuck? Then check out the Complete Walkthrough Solution video for more help on approaching the project!"
   ]
  },
  {
   "cell_type": "markdown",
   "metadata": {},
   "source": [
    "There are parts of this that will be a struggle...and that is good! I have complete faith that if you have made it this far through the course you have all the tools and knowledge to tackle this project. Remember, it's totally open book, so take your time, do a little research, and remember:\n",
    "\n",
    "## HAVE FUN!"
   ]
  },
  {
   "cell_type": "code",
   "execution_count": 11,
   "metadata": {},
   "outputs": [],
   "source": [
    "from IPython.display import clear_output"
   ]
  },
  {
   "cell_type": "code",
   "execution_count": 27,
   "metadata": {},
   "outputs": [],
   "source": [
    "game_board = [' ',' ',' ',' ',' ',' ',' ',' ',' ']\n",
    "\n",
    "def display_board():\n",
    "    print(game_board[0] + ' | '+game_board[1] + ' | ' + game_board[2])\n",
    "    print('----------')\n",
    "    print(game_board[3] + ' | '+game_board[4] + ' | ' + game_board[5])\n",
    "    print('----------')\n",
    "    print(game_board[6] + ' | '+game_board[7] + ' | ' + game_board[8])"
   ]
  },
  {
   "cell_type": "code",
   "execution_count": 28,
   "metadata": {},
   "outputs": [
    {
     "name": "stdout",
     "output_type": "stream",
     "text": [
      "  |   |  \n",
      "----------\n",
      "  |   |  \n",
      "----------\n",
      "  |   |  \n"
     ]
    }
   ],
   "source": [
    "display_board()"
   ]
  },
  {
   "cell_type": "code",
   "execution_count": 20,
   "metadata": {},
   "outputs": [],
   "source": [
    "def user_marker_choice():\n",
    "    marker_choices = {'X':'Player 1', 'O': 'Player 2'}\n",
    "    \n",
    "    marker = input('Choose your Marker X or O\\n')\n",
    "    \n",
    "    while marker not in ['X','O']:\n",
    "        print('Choose either X or O')\n",
    "        marker = input('Choose your Marker X or O\\n')\n",
    "        \n",
    "    print(f'{marker_choices[marker]} will go first.')\n",
    "    \n",
    "    chosen_marker = marker\n",
    "    \n",
    "    return chosen_marker"
   ]
  },
  {
   "cell_type": "code",
   "execution_count": 21,
   "metadata": {},
   "outputs": [],
   "source": [
    "def user_input():\n",
    "    user_choice = input('Choose your choice of placement (0-9)')\n",
    "    \n",
    "    while user_choice not in ['0','1','2','3','4','5','6','7','8']:\n",
    "        print('Choose only from the (0-8)')\n",
    "        user_choice = input('Choose your choice of placement (0-9)')\n",
    "        \n",
    "    return int(user_choice)"
   ]
  },
  {
   "cell_type": "code",
   "execution_count": 22,
   "metadata": {},
   "outputs": [],
   "source": [
    "def board_placement(board,marker,place):\n",
    "    board[place] = marker\n",
    "    \n",
    "    return display_board()"
   ]
  },
  {
   "cell_type": "code",
   "execution_count": 23,
   "metadata": {},
   "outputs": [],
   "source": [
    "def marker_swap(curr_marker):\n",
    "    if curr_marker == 'X':\n",
    "        return 'O'\n",
    "    else:\n",
    "        return 'X'"
   ]
  },
  {
   "cell_type": "code",
   "execution_count": 33,
   "metadata": {},
   "outputs": [],
   "source": [
    "game_board = [' ',' ',' ',' ',' ',' ',' ',' ',' ']\n",
    "\n",
    "def game_on():\n",
    "    game_flag = 0\n",
    "    \n",
    "    chosen_marker = user_marker_choice()\n",
    "    \n",
    "    chosen_place = user_input()\n",
    "    \n",
    "    board_placement(game_board, chosen_marker, chosen_place)\n",
    "    \n",
    "    \n",
    "    while game_flag <= 7:\n",
    "        chosen_place = user_input()\n",
    "        \n",
    "        curr_marker = marker_swap(chosen_marker)\n",
    "        \n",
    "        chosen_marker = curr_marker\n",
    "               \n",
    "        clear_output()\n",
    "            \n",
    "        \n",
    "        board_placement(game_board, curr_marker, chosen_place)\n",
    "        \n",
    "        game_flag+=1\n",
    "        \n",
    "\n",
    "        \n",
    "        \n",
    "    return 'End of the Game'"
   ]
  },
  {
   "cell_type": "code",
   "execution_count": 32,
   "metadata": {
    "scrolled": true
   },
   "outputs": [
    {
     "name": "stdout",
     "output_type": "stream",
     "text": [
      "X | O | X\n",
      "----------\n",
      "O | X | O\n",
      "----------\n",
      "X | O | X\n"
     ]
    },
    {
     "data": {
      "text/plain": [
       "'End of the Game'"
      ]
     },
     "execution_count": 32,
     "metadata": {},
     "output_type": "execute_result"
    }
   ],
   "source": [
    "game_on()"
   ]
  },
  {
   "cell_type": "code",
   "execution_count": null,
   "metadata": {},
   "outputs": [],
   "source": []
  }
 ],
 "metadata": {
  "kernelspec": {
   "display_name": "Python 3 (ipykernel)",
   "language": "python",
   "name": "python3"
  },
  "language_info": {
   "codemirror_mode": {
    "name": "ipython",
    "version": 3
   },
   "file_extension": ".py",
   "mimetype": "text/x-python",
   "name": "python",
   "nbconvert_exporter": "python",
   "pygments_lexer": "ipython3",
   "version": "3.11.5"
  }
 },
 "nbformat": 4,
 "nbformat_minor": 1
}
