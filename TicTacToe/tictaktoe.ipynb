{
 "cells": [
  {
   "cell_type": "code",
   "execution_count": 1,
   "metadata": {},
   "outputs": [],
   "source": [
    "from IPython.display import clear_output"
   ]
  },
  {
   "cell_type": "code",
   "execution_count": 16,
   "metadata": {},
   "outputs": [],
   "source": [
    "def welcome_msg():\n",
    "    print('''\n",
    "                          |            |\n",
    "                 .____,   |            |    ____\n",
    "                . \\  / ,  |            |  ,' __ `.\n",
    "                |`-  -'|  |            | / ,'  `. \\\n",
    "                |,-  -.|  |            | | | () | |\n",
    "                ' /__\\ `  |            | \\ `.__,' /\n",
    "                 '    `   |            |  `.____,'\n",
    "             _____________|____________|_______________\n",
    "                          |            |\n",
    "                          |            |\n",
    "                          |            |\n",
    "                          |            |\n",
    "                          |            |\n",
    "                          |            |\n",
    "             _____________|____________|_______________\n",
    "                          |            |   .____,\n",
    "                          |            |  . \\  / ,\n",
    "                          |            |  |`-  -'|\n",
    "                          |            |  |,-  -.|\n",
    "                          |            |  ' /__\\ `\n",
    "                          |            |   '    `\n",
    "                          |            |\n",
    "    ''')"
   ]
  },
  {
   "cell_type": "code",
   "execution_count": 17,
   "metadata": {},
   "outputs": [
    {
     "name": "stdout",
     "output_type": "stream",
     "text": [
      "\n",
      "                          |            |\n",
      "                 .____,   |            |    ____\n",
      "                . \\  / ,  |            |  ,' __ `.\n",
      "                |`-  -'|  |            | / ,'  `.                 |,-  -.|  |            | | | () | |\n",
      "                ' /__\\ `  |            | \\ `.__,' /\n",
      "                 '    `   |            |  `.____,'\n",
      "             _____________|____________|_______________\n",
      "                          |            |\n",
      "                          |            |\n",
      "                          |            |\n",
      "                          |            |\n",
      "                          |            |\n",
      "                          |            |\n",
      "             _____________|____________|_______________\n",
      "                          |            |   .____,\n",
      "                          |            |  . \\  / ,\n",
      "                          |            |  |`-  -'|\n",
      "                          |            |  |,-  -.|\n",
      "                          |            |  ' /__\\ `\n",
      "                          |            |   '    `\n",
      "                          |            |\n",
      "    \n"
     ]
    }
   ],
   "source": [
    "welcome_msg()"
   ]
  },
  {
   "cell_type": "code",
   "execution_count": 2,
   "metadata": {},
   "outputs": [],
   "source": [
    "game_board = [' ',' ',' ',' ',' ',' ',' ',' ',' ']"
   ]
  },
  {
   "cell_type": "code",
   "execution_count": 3,
   "metadata": {},
   "outputs": [],
   "source": [
    "def game_reset():\n",
    "    for i in range(0,len(game_board)):\n",
    "        game_board[i] = ' '"
   ]
  },
  {
   "cell_type": "code",
   "execution_count": 4,
   "metadata": {},
   "outputs": [],
   "source": [
    "def display_board():\n",
    "    print(game_board[0] + ' | '+game_board[1] + ' | ' + game_board[2])\n",
    "    print('----------')\n",
    "    print(game_board[3] + ' | '+game_board[4] + ' | ' + game_board[5])\n",
    "    print('----------')\n",
    "    print(game_board[6] + ' | '+game_board[7] + ' | ' + game_board[8])"
   ]
  },
  {
   "cell_type": "code",
   "execution_count": 5,
   "metadata": {},
   "outputs": [],
   "source": [
    "def winner_check():\n",
    "    if (\n",
    "        ((game_board[0] == game_board[1] == game_board[2] == 'X') or\n",
    "        (game_board[3] == game_board[4] == game_board[5] == 'X') or\n",
    "        (game_board[6] == game_board[7] == game_board[8] == 'X') or\n",
    "        (game_board[0] == game_board[3] == game_board[6] == 'X') or\n",
    "        (game_board[1] == game_board[4] == game_board[7] == 'X') or\n",
    "        (game_board[2] == game_board[5] == game_board[8] == 'X') or\n",
    "        (game_board[0] == game_board[4] == game_board[8] == 'X') or\n",
    "        (game_board[2] == game_board[4] == game_board[6] == 'X') or (\n",
    "        (game_board[0] == game_board[1] == game_board[2] == 'O') or\n",
    "        (game_board[3] == game_board[4] == game_board[5] == 'O') or\n",
    "        (game_board[6] == game_board[7] == game_board[8] == 'O') or\n",
    "        (game_board[0] == game_board[3] == game_board[6] == 'O') or\n",
    "        (game_board[1] == game_board[4] == game_board[7] == 'O') or\n",
    "        (game_board[2] == game_board[5] == game_board[8] == 'O') or\n",
    "        (game_board[0] == game_board[4] == game_board[8] == 'O') or\n",
    "        (game_board[2] == game_board[4] == game_board[6] == 'O')))):\n",
    "        return True\n",
    "    else:\n",
    "        return False"
   ]
  },
  {
   "cell_type": "code",
   "execution_count": 6,
   "metadata": {},
   "outputs": [],
   "source": [
    "game_reset()"
   ]
  },
  {
   "cell_type": "code",
   "execution_count": 7,
   "metadata": {
    "scrolled": true
   },
   "outputs": [
    {
     "name": "stdout",
     "output_type": "stream",
     "text": [
      "  |   |  \n",
      "----------\n",
      "  |   |  \n",
      "----------\n",
      "  |   |  \n"
     ]
    }
   ],
   "source": [
    "display_board()"
   ]
  },
  {
   "cell_type": "code",
   "execution_count": 8,
   "metadata": {},
   "outputs": [],
   "source": [
    "def user_marker_choice():\n",
    "    marker_choices = {'X':'Player 1', 'O': 'Player 2'}\n",
    "    \n",
    "    marker = input('Choose your Marker X or O\\n')\n",
    "    \n",
    "    while marker not in ['X','O']:\n",
    "        print('Choose either X or O')\n",
    "        marker = input('Choose your Marker X or O\\n')\n",
    "        \n",
    "    print(f'{marker_choices[marker]} will go first.')\n",
    "    \n",
    "    chosen_marker = marker\n",
    "    \n",
    "    return chosen_marker"
   ]
  },
  {
   "cell_type": "code",
   "execution_count": 9,
   "metadata": {},
   "outputs": [],
   "source": [
    "def user_input():\n",
    "    user_choice = input('Choose your choice of placement (0-9)')\n",
    "    \n",
    "    while user_choice not in ['0','1','2','3','4','5','6','7','8']:\n",
    "        print('Choose only from the (0-8)')\n",
    "        user_choice = input('Choose your choice of placement (0-9)')\n",
    "        \n",
    "    return int(user_choice)"
   ]
  },
  {
   "cell_type": "code",
   "execution_count": 10,
   "metadata": {},
   "outputs": [],
   "source": [
    "def board_placement(board,marker,place):\n",
    "    board[place] = marker"
   ]
  },
  {
   "cell_type": "code",
   "execution_count": 11,
   "metadata": {},
   "outputs": [],
   "source": [
    "def marker_swap(curr_marker):\n",
    "    if curr_marker == 'X':\n",
    "        return 'O'\n",
    "    else:\n",
    "        return 'X'"
   ]
  },
  {
   "cell_type": "code",
   "execution_count": 18,
   "metadata": {},
   "outputs": [],
   "source": [
    "def game_on():\n",
    "    swap_count = 0\n",
    "    print('Welcome to TicTacToe ...... !!!!!')\n",
    "    game_reset()\n",
    "    welcome_msg()\n",
    "    \n",
    "    chosen_marker = user_marker_choice()\n",
    "    \n",
    "    chosen_place = user_input()\n",
    "        \n",
    "    while game_board[chosen_place] in ['X','O']:\n",
    "        print('Place already taken. Choose different.')\n",
    "        chosen_place = user_input()\n",
    "    \n",
    "    board_placement(game_board, chosen_marker, chosen_place)\n",
    "    display_board()\n",
    "    \n",
    "    is_winner = winner_check()\n",
    "    \n",
    "    while not is_winner:\n",
    "        chosen_place = user_input()\n",
    "        \n",
    "        while game_board[chosen_place] in ['X','O']:\n",
    "            print('Place already taken. Choose different.')\n",
    "            chosen_place = user_input()\n",
    "            \n",
    "        curr_marker = marker_swap(chosen_marker)\n",
    "        \n",
    "        chosen_marker = curr_marker\n",
    "               \n",
    "        clear_output()\n",
    "            \n",
    "        \n",
    "        board_placement(game_board, curr_marker, chosen_place)\n",
    "        display_board()\n",
    "        swap_count+=1\n",
    "        \n",
    "        is_winner = winner_check()\n",
    "        \n",
    "        if is_winner == True:\n",
    "            if curr_marker == 'X':\n",
    "                print('Player 1 wins ... !')\n",
    "                print(curr_marker)\n",
    "            else:\n",
    "                print('Player 2 wins ....!')\n",
    "                print(curr_marker)\n",
    "            break\n",
    "        elif (swap_count == 8):\n",
    "            print('Game Draw')\n",
    "            break\n",
    "        else:\n",
    "            pass\n",
    "        \n",
    "        \n",
    "    return 'End of the Game'"
   ]
  },
  {
   "cell_type": "code",
   "execution_count": 21,
   "metadata": {},
   "outputs": [],
   "source": [
    "def tictactoe():\n",
    "    game_flag = True\n",
    "    \n",
    "    while game_flag:\n",
    "        game_on()\n",
    "\n",
    "        is_continue = input('Do u want ot continue Y or N?\\n')\n",
    "\n",
    "        while is_continue not in ['Y','N']:\n",
    "            print('Only choose from the list')\n",
    "            is_continue = input('Do u want ot continue Y or N?\\n')\n",
    "        \n",
    "        if is_continue == 'Y':\n",
    "            clear_output()\n",
    "            pass\n",
    "        else:\n",
    "            game_flag = False"
   ]
  },
  {
   "cell_type": "code",
   "execution_count": null,
   "metadata": {},
   "outputs": [],
   "source": [
    "tictactoe()"
   ]
  }
 ],
 "metadata": {
  "kernelspec": {
   "display_name": "Python 3 (ipykernel)",
   "language": "python",
   "name": "python3"
  },
  "language_info": {
   "codemirror_mode": {
    "name": "ipython",
    "version": 3
   },
   "file_extension": ".py",
   "mimetype": "text/x-python",
   "name": "python",
   "nbconvert_exporter": "python",
   "pygments_lexer": "ipython3",
   "version": "3.11.7"
  }
 },
 "nbformat": 4,
 "nbformat_minor": 1
}
