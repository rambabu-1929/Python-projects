{
 "cells": [
  {
   "cell_type": "markdown",
   "id": "7bbb7886",
   "metadata": {},
   "source": [
    "# War Main Game"
   ]
  },
  {
   "cell_type": "code",
   "execution_count": 1,
   "id": "d03c1673",
   "metadata": {},
   "outputs": [],
   "source": [
    "import random\n",
    "from card_starter_pack import Suit, Rank, rank_value"
   ]
  },
  {
   "cell_type": "code",
   "execution_count": 2,
   "id": "25c65b12",
   "metadata": {},
   "outputs": [],
   "source": [
    "card_suits = Suit()\n",
    "\n",
    "card_Ranks = Rank()\n",
    "\n",
    "card_rank_value = rank_value()"
   ]
  },
  {
   "cell_type": "code",
   "execution_count": 3,
   "id": "ac1e3cf9",
   "metadata": {},
   "outputs": [],
   "source": [
    "class Card():\n",
    "    \n",
    "    def __init__(self,p_suit,p_rank):\n",
    "        self.p_suit = p_suit\n",
    "        self.p_rank = p_rank\n",
    "        self.value = card_rank_value[p_rank]\n",
    "        \n",
    "    def __str__(self):\n",
    "        return f'Card of {self.p_suit} with rank {self.value}'"
   ]
  },
  {
   "cell_type": "code",
   "execution_count": 4,
   "id": "102f9199",
   "metadata": {},
   "outputs": [],
   "source": [
    "class Deck():\n",
    "    \n",
    "    def __init__(self, deck_of_cards):\n",
    "        self.deck_of_cards = []\n",
    "    \n",
    "        for i in range(0,52):\n",
    "            random_suit = card_suits[random.randrange(len(card_suits))]\n",
    "            random_rank = card_Ranks[random.randrange(len(card_Ranks))]\n",
    "            current_card = Card(random_suit,random_rank)\n",
    "            self.deck_of_cards.append(current_card)\n",
    "        \n",
    "    def deal_one(self):\n",
    "        return self.deck_of_cards.pop()\n",
    "    \n",
    "    def __str__(self):\n",
    "        return f'WAR CRAD CREATED WITH {len(self.deck_of_cards)} Cards.'"
   ]
  },
  {
   "cell_type": "code",
   "execution_count": 5,
   "id": "78436582",
   "metadata": {},
   "outputs": [],
   "source": [
    "class Player:\n",
    "    \n",
    "    def __init__(self, name):\n",
    "        self.name = name\n",
    "        self.player_cards = []\n",
    "    \n",
    "    def add_cards(self, p_card):\n",
    "        if type(p_card) == type([]):\n",
    "            self.player_cards.extend(p_card)\n",
    "        else:\n",
    "            self.player_cards.append(p_card)\n",
    "    \n",
    "    def remove_card(self):\n",
    "        return self.player_cards.pop(0)\n",
    "    \n",
    "    def __str__(self):\n",
    "        return f'{self.name} with {(len(self.player_cards))} cards'"
   ]
  },
  {
   "cell_type": "code",
   "execution_count": 128,
   "id": "b8884fa2",
   "metadata": {},
   "outputs": [],
   "source": [
    "war_deck = Deck([])"
   ]
  },
  {
   "cell_type": "code",
   "execution_count": 129,
   "id": "c3309ae5",
   "metadata": {},
   "outputs": [
    {
     "name": "stdout",
     "output_type": "stream",
     "text": [
      "WAR CRAD CREATED WITH 52 Cards.\n"
     ]
    }
   ],
   "source": [
    "print(war_deck)"
   ]
  },
  {
   "cell_type": "code",
   "execution_count": 130,
   "id": "4551f2a0",
   "metadata": {},
   "outputs": [],
   "source": [
    "Lara = Player('Lara')\n",
    "Croft = Player('Croft')"
   ]
  },
  {
   "cell_type": "code",
   "execution_count": 132,
   "id": "87a8aea4",
   "metadata": {},
   "outputs": [
    {
     "ename": "IndexError",
     "evalue": "pop from empty list",
     "output_type": "error",
     "traceback": [
      "\u001b[0;31m---------------------------------------------------------------------------\u001b[0m",
      "\u001b[0;31mIndexError\u001b[0m                                Traceback (most recent call last)",
      "Cell \u001b[0;32mIn[132], line 2\u001b[0m\n\u001b[1;32m      1\u001b[0m \u001b[38;5;28;01mfor\u001b[39;00m i \u001b[38;5;129;01min\u001b[39;00m \u001b[38;5;28mrange\u001b[39m(\u001b[38;5;241m26\u001b[39m):\n\u001b[0;32m----> 2\u001b[0m     Lara\u001b[38;5;241m.\u001b[39madd_cards(war_deck\u001b[38;5;241m.\u001b[39mdeal_one())\n\u001b[1;32m      3\u001b[0m     Croft\u001b[38;5;241m.\u001b[39madd_cards(war_deck\u001b[38;5;241m.\u001b[39mdeal_one())\n",
      "Cell \u001b[0;32mIn[4], line 13\u001b[0m, in \u001b[0;36mDeck.deal_one\u001b[0;34m(self)\u001b[0m\n\u001b[1;32m     12\u001b[0m \u001b[38;5;28;01mdef\u001b[39;00m \u001b[38;5;21mdeal_one\u001b[39m(\u001b[38;5;28mself\u001b[39m):\n\u001b[0;32m---> 13\u001b[0m     \u001b[38;5;28;01mreturn\u001b[39;00m \u001b[38;5;28mself\u001b[39m\u001b[38;5;241m.\u001b[39mdeck_of_cards\u001b[38;5;241m.\u001b[39mpop()\n",
      "\u001b[0;31mIndexError\u001b[0m: pop from empty list"
     ]
    }
   ],
   "source": [
    "for i in range(26):\n",
    "    Lara.add_cards(war_deck.deal_one())\n",
    "    Croft.add_cards(war_deck.deal_one())"
   ]
  },
  {
   "cell_type": "code",
   "execution_count": 133,
   "id": "509c43fa",
   "metadata": {},
   "outputs": [
    {
     "name": "stdout",
     "output_type": "stream",
     "text": [
      "Lara with 26 cards\n",
      "Croft with 26 cards\n"
     ]
    }
   ],
   "source": [
    "print(Lara)\n",
    "print(Croft)"
   ]
  },
  {
   "cell_type": "code",
   "execution_count": 134,
   "id": "8715fa99",
   "metadata": {},
   "outputs": [
    {
     "name": "stdout",
     "output_type": "stream",
     "text": [
      "14\n",
      "2\n"
     ]
    }
   ],
   "source": [
    "print(Lara.player_cards[1].value)\n",
    "print(Croft.player_cards[1].value)"
   ]
  },
  {
   "cell_type": "code",
   "execution_count": null,
   "id": "8dc08c1b",
   "metadata": {},
   "outputs": [],
   "source": [
    "test_var = Lara.remove_card()"
   ]
  },
  {
   "cell_type": "code",
   "execution_count": null,
   "id": "5a6ddc06",
   "metadata": {},
   "outputs": [],
   "source": [
    "print(test_var)"
   ]
  },
  {
   "cell_type": "code",
   "execution_count": 135,
   "id": "28cb1022",
   "metadata": {},
   "outputs": [
    {
     "name": "stdout",
     "output_type": "stream",
     "text": [
      "Card of Diamond with rank 4\n",
      "Card of Spade with rank 7\n"
     ]
    }
   ],
   "source": [
    "print(Lara.player_cards[0])\n",
    "print(Croft.player_cards[0])"
   ]
  },
  {
   "cell_type": "code",
   "execution_count": 136,
   "id": "1be761b5",
   "metadata": {},
   "outputs": [],
   "source": [
    "def war_game():    \n",
    "    \n",
    "    round = 1\n",
    "    \n",
    "    print(f'Round of {round}')\n",
    "    is_game = False\n",
    "    \n",
    "    \n",
    "    while not is_game:\n",
    "        print(f'Round of {round}')\n",
    "        round +=1\n",
    "        \n",
    "        if len(Lara.player_cards) == 0:\n",
    "            print('Lara ran out of cards. Croft Wins !!!')\n",
    "            is_game = True\n",
    "            break\n",
    "        \n",
    "        if len(Croft.player_cards) == 0:\n",
    "            print('Croft ran out of cards. Lara Wins !!!')\n",
    "            is_game = True\n",
    "            break\n",
    "        \n",
    "        lara_cards = []\n",
    "        lara_cards.append(Lara.remove_card())\n",
    "\n",
    "        \n",
    "        croft_cards = []\n",
    "        croft_cards.append(Croft.remove_card())\n",
    "    \n",
    "        \n",
    "        at_war = True\n",
    "        \n",
    "        while at_war:\n",
    "            if lara_cards[-1].value > croft_cards[-1].value:\n",
    "                Lara.add_cards(lara_cards)\n",
    "                Lara.add_cards(croft_cards)\n",
    "                at_war = False\n",
    "                \n",
    "                \n",
    "            elif lara_cards[-1].value < croft_cards[-1].value:\n",
    "                Croft.add_cards(croft_cards)\n",
    "                Croft.add_cards(lara_cards)\n",
    "                at_war = False\n",
    "                \n",
    "                \n",
    "            else:\n",
    "                print('WAR !!!!')\n",
    "                \n",
    "                if len(Lara.player_cards) < 5:\n",
    "                    print('lara ran out of cards. Croft Wins !!!')\n",
    "                    is_game = True\n",
    "                    break\n",
    "                elif len(Croft.player_cards) < 5:\n",
    "                    print('lara ran out of cards. Croft Wins !!!')\n",
    "                    is_game = True\n",
    "                    break\n",
    "                else:\n",
    "                    for num in range(5):\n",
    "                        lara_cards.append(Lara.remove_card())\n",
    "                        croft_cards.append(Croft.remove_card())"
   ]
  },
  {
   "cell_type": "code",
   "execution_count": 137,
   "id": "51a393e7",
   "metadata": {},
   "outputs": [
    {
     "name": "stdout",
     "output_type": "stream",
     "text": [
      "Round of 1\n",
      "Round of 1\n",
      "Round of 2\n",
      "Round of 3\n",
      "Round of 4\n",
      "Round of 5\n",
      "Round of 6\n",
      "Round of 7\n",
      "Round of 8\n",
      "Round of 9\n",
      "Round of 10\n",
      "Round of 11\n",
      "WAR !!!!\n",
      "Round of 12\n",
      "WAR !!!!\n",
      "WAR !!!!\n",
      "Round of 13\n",
      "Round of 14\n",
      "Round of 15\n",
      "Round of 16\n",
      "Round of 17\n",
      "Round of 18\n",
      "Round of 19\n",
      "Round of 20\n",
      "Round of 21\n",
      "Round of 22\n",
      "Round of 23\n",
      "Round of 24\n",
      "Round of 25\n",
      "Round of 26\n",
      "Round of 27\n",
      "Round of 28\n",
      "Round of 29\n",
      "Round of 30\n",
      "Round of 31\n",
      "Round of 32\n",
      "Round of 33\n",
      "Round of 34\n",
      "Round of 35\n",
      "Round of 36\n",
      "Round of 37\n",
      "WAR !!!!\n",
      "Round of 38\n",
      "Round of 39\n",
      "Croft ran out of cards. Lara Wins !!!\n"
     ]
    }
   ],
   "source": [
    "war_game()"
   ]
  },
  {
   "cell_type": "code",
   "execution_count": null,
   "id": "6001d01a",
   "metadata": {},
   "outputs": [],
   "source": []
  }
 ],
 "metadata": {
  "kernelspec": {
   "display_name": "Python 3 (ipykernel)",
   "language": "python",
   "name": "python3"
  },
  "language_info": {
   "codemirror_mode": {
    "name": "ipython",
    "version": 3
   },
   "file_extension": ".py",
   "mimetype": "text/x-python",
   "name": "python",
   "nbconvert_exporter": "python",
   "pygments_lexer": "ipython3",
   "version": "3.11.7"
  }
 },
 "nbformat": 4,
 "nbformat_minor": 5
}
