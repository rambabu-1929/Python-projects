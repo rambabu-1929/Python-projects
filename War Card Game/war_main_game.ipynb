{
 "cells": [
  {
   "cell_type": "markdown",
   "id": "7bbb7886",
   "metadata": {},
   "source": [
    "# War Main Game"
   ]
  },
  {
   "cell_type": "code",
   "execution_count": 1,
   "id": "d03c1673",
   "metadata": {},
   "outputs": [],
   "source": [
    "import random\n",
    "from card_starter_pack import Suit, Rank, rank_value"
   ]
  },
  {
   "cell_type": "code",
   "execution_count": 2,
   "id": "25c65b12",
   "metadata": {},
   "outputs": [],
   "source": [
    "card_suits = Suit()\n",
    "\n",
    "card_Ranks = Rank()\n",
    "\n",
    "card_rank_value = rank_value()"
   ]
  },
  {
   "cell_type": "code",
   "execution_count": 3,
   "id": "ac1e3cf9",
   "metadata": {},
   "outputs": [],
   "source": [
    "class Card():\n",
    "    \n",
    "    def __init__(self,p_suit,p_rank):\n",
    "        self.p_suit = p_suit\n",
    "        self.p_rank = p_rank\n",
    "        self.value = card_rank_value[p_rank]\n",
    "        \n",
    "    def __str__(self):\n",
    "        return f'Card of {self.p_suit} with rank {self.value}'"
   ]
  },
  {
   "cell_type": "code",
   "execution_count": 50,
   "id": "102f9199",
   "metadata": {},
   "outputs": [],
   "source": [
    "class Deck():\n",
    "    deck_of_cards = []\n",
    "\n",
    "    for i in range(0,52):\n",
    "        random_suit = card_suits[random.randrange(len(card_suits))]\n",
    "        random_rank = card_Ranks[random.randrange(len(card_Ranks))]\n",
    "        current_card = Card(random_suit,random_rank)\n",
    "        deck_of_cards.append(current_card)"
   ]
  },
  {
   "cell_type": "code",
   "execution_count": 52,
   "id": "84965a55",
   "metadata": {},
   "outputs": [],
   "source": [
    "new_deck = Deck()"
   ]
  },
  {
   "cell_type": "code",
   "execution_count": 51,
   "id": "62654be4",
   "metadata": {},
   "outputs": [],
   "source": [
    "class Player():\n",
    "    all_cards = [1,2]\n",
    "    \n",
    "    def __init__(self,name):\n",
    "        self.name = name\n",
    "    \n",
    "    def remove_card(self):\n",
    "        return self.all_cards.pop(0)\n",
    "    \n",
    "    def add_cards(self,new_cards):\n",
    "        if type(new_cards) == type([]):\n",
    "            self.all_cards.extend(new_cards)\n",
    "        else:\n",
    "            self.all_cards.append(new_cards)\n",
    "    \n",
    "    def __str__(self):\n",
    "        return f'{self.name} with {len(self.all_cards)} cards.'"
   ]
  },
  {
   "cell_type": "code",
   "execution_count": 44,
   "id": "390926fa",
   "metadata": {},
   "outputs": [],
   "source": [
    "player_one = Player('Jack')"
   ]
  },
  {
   "cell_type": "code",
   "execution_count": 54,
   "id": "163df477",
   "metadata": {},
   "outputs": [],
   "source": [
    "player_one.all_cards = new_deck.deck_of_cards"
   ]
  },
  {
   "cell_type": "code",
   "execution_count": null,
   "id": "81421f3e",
   "metadata": {},
   "outputs": [],
   "source": []
  },
  {
   "cell_type": "code",
   "execution_count": 58,
   "id": "b6ce6610",
   "metadata": {},
   "outputs": [
    {
     "name": "stdout",
     "output_type": "stream",
     "text": [
      "Card of Club with rank 10\n"
     ]
    }
   ],
   "source": [
    "print(player_one.all_cards[2])"
   ]
  },
  {
   "cell_type": "code",
   "execution_count": 46,
   "id": "e090784d",
   "metadata": {},
   "outputs": [
    {
     "data": {
      "text/plain": [
       "1"
      ]
     },
     "execution_count": 46,
     "metadata": {},
     "output_type": "execute_result"
    }
   ],
   "source": [
    "player_one.remove_card()"
   ]
  },
  {
   "cell_type": "code",
   "execution_count": 48,
   "id": "78e4e5f1",
   "metadata": {},
   "outputs": [],
   "source": [
    "player_one.add_cards([3,4])"
   ]
  },
  {
   "cell_type": "code",
   "execution_count": null,
   "id": "4dc5c54e",
   "metadata": {},
   "outputs": [],
   "source": []
  },
  {
   "cell_type": "code",
   "execution_count": null,
   "id": "21e26db8",
   "metadata": {},
   "outputs": [],
   "source": []
  },
  {
   "cell_type": "code",
   "execution_count": 23,
   "id": "ccc9489b",
   "metadata": {},
   "outputs": [],
   "source": [
    "new_deck = Deck()"
   ]
  },
  {
   "cell_type": "code",
   "execution_count": 24,
   "id": "b055c17f",
   "metadata": {},
   "outputs": [
    {
     "name": "stdout",
     "output_type": "stream",
     "text": [
      "Card of Club with rank 11\n",
      "Card of Diamond with rank 9\n",
      "Card of Diamond with rank 4\n",
      "Card of Heart with rank 3\n",
      "Card of Club with rank 7\n",
      "Card of Spade with rank 1\n",
      "Card of Club with rank 5\n",
      "Card of Spade with rank 14\n",
      "Card of Club with rank 9\n",
      "Card of Diamond with rank 3\n",
      "Card of Club with rank 11\n",
      "Card of Spade with rank 13\n",
      "Card of Heart with rank 9\n",
      "Card of Spade with rank 1\n",
      "Card of Club with rank 11\n",
      "Card of Club with rank 3\n",
      "Card of Diamond with rank 7\n",
      "Card of Diamond with rank 9\n",
      "Card of Club with rank 10\n",
      "Card of Club with rank 8\n",
      "Card of Diamond with rank 11\n",
      "Card of Diamond with rank 4\n",
      "Card of Spade with rank 1\n",
      "Card of Heart with rank 13\n",
      "Card of Heart with rank 11\n",
      "Card of Heart with rank 4\n",
      "Card of Heart with rank 9\n",
      "Card of Spade with rank 13\n",
      "Card of Diamond with rank 6\n",
      "Card of Heart with rank 10\n",
      "Card of Spade with rank 3\n",
      "Card of Heart with rank 14\n",
      "Card of Heart with rank 11\n",
      "Card of Diamond with rank 4\n",
      "Card of Spade with rank 3\n",
      "Card of Heart with rank 7\n",
      "Card of Heart with rank 13\n",
      "Card of Club with rank 4\n",
      "Card of Club with rank 3\n",
      "Card of Heart with rank 12\n",
      "Card of Diamond with rank 2\n",
      "Card of Heart with rank 4\n",
      "Card of Diamond with rank 10\n",
      "Card of Diamond with rank 13\n",
      "Card of Club with rank 14\n",
      "Card of Club with rank 7\n",
      "Card of Club with rank 4\n",
      "Card of Diamond with rank 7\n",
      "Card of Heart with rank 3\n",
      "Card of Heart with rank 1\n",
      "Card of Heart with rank 2\n",
      "Card of Spade with rank 9\n"
     ]
    }
   ],
   "source": [
    "for card_object in new_deck.deck_of_cards:\n",
    "    print(card_object)"
   ]
  },
  {
   "cell_type": "code",
   "execution_count": null,
   "id": "72ff9c5b",
   "metadata": {},
   "outputs": [],
   "source": []
  }
 ],
 "metadata": {
  "kernelspec": {
   "display_name": "Python 3 (ipykernel)",
   "language": "python",
   "name": "python3"
  },
  "language_info": {
   "codemirror_mode": {
    "name": "ipython",
    "version": 3
   },
   "file_extension": ".py",
   "mimetype": "text/x-python",
   "name": "python",
   "nbconvert_exporter": "python",
   "pygments_lexer": "ipython3",
   "version": "3.11.5"
  }
 },
 "nbformat": 4,
 "nbformat_minor": 5
}
