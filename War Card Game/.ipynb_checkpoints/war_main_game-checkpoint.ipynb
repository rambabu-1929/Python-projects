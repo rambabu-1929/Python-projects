{
 "cells": [
  {
   "cell_type": "markdown",
   "id": "7bbb7886",
   "metadata": {},
   "source": [
    "# War Main Game"
   ]
  },
  {
   "cell_type": "code",
   "execution_count": 1,
   "id": "d03c1673",
   "metadata": {},
   "outputs": [],
   "source": [
    "import random\n",
    "from card_starter_pack import Suit, Rank, rank_value"
   ]
  },
  {
   "cell_type": "code",
   "execution_count": 2,
   "id": "25c65b12",
   "metadata": {},
   "outputs": [],
   "source": [
    "card_suits = Suit()\n",
    "\n",
    "card_Ranks = Rank()\n",
    "\n",
    "card_rank_value = rank_value()"
   ]
  },
  {
   "cell_type": "code",
   "execution_count": 3,
   "id": "ac1e3cf9",
   "metadata": {},
   "outputs": [],
   "source": [
    "class Card():\n",
    "    \n",
    "    def __init__(self,p_suit,p_rank):\n",
    "        self.p_suit = p_suit\n",
    "        self.p_rank = p_rank\n",
    "        self.value = card_rank_value[p_rank]\n",
    "        \n",
    "    def __str__(self):\n",
    "        return f'Card of {self.p_suit} with rank {self.value}'"
   ]
  },
  {
   "cell_type": "code",
   "execution_count": 4,
   "id": "102f9199",
   "metadata": {},
   "outputs": [],
   "source": [
    "class Deck():\n",
    "    \n",
    "    def __init__(self, deck_of_cards):\n",
    "        self.deck_of_cards = []\n",
    "    \n",
    "        for i in range(0,52):\n",
    "            random_suit = card_suits[random.randrange(len(card_suits))]\n",
    "            random_rank = card_Ranks[random.randrange(len(card_Ranks))]\n",
    "            current_card = Card(random_suit,random_rank)\n",
    "            self.deck_of_cards.append(current_card)\n",
    "        \n",
    "    def deal_one(self):\n",
    "        return self.deck_of_cards.pop()\n",
    "    \n",
    "    def __str__(self):\n",
    "        return f'WAR CRAD CREATED WITH {len(self.deck_of_cards)} Cards.'"
   ]
  },
  {
   "cell_type": "code",
   "execution_count": 5,
   "id": "bfa124f4",
   "metadata": {},
   "outputs": [],
   "source": [
    "class Player:\n",
    "    \n",
    "    def __init__(self, name):\n",
    "        self.name = name\n",
    "        self.player_cards = []\n",
    "    \n",
    "    def add_cards(self, p_card):\n",
    "        if type(p_card) == type([]):\n",
    "            self.player_cards.extend(p_card)\n",
    "        else:\n",
    "            self.player_cards.append(p_card)\n",
    "    \n",
    "    def remove_card(self,p_card):\n",
    "        self.player_cards.pop(p_card)\n",
    "    \n",
    "    def __str__(self):\n",
    "        return f'{self.name} with {(len(self.player_cards))} cards'"
   ]
  },
  {
   "cell_type": "code",
   "execution_count": 6,
   "id": "aac99b62",
   "metadata": {},
   "outputs": [],
   "source": [
    "war_deck = Deck([])"
   ]
  },
  {
   "cell_type": "code",
   "execution_count": 12,
   "id": "d4bbc7ef",
   "metadata": {},
   "outputs": [
    {
     "name": "stdout",
     "output_type": "stream",
     "text": [
      "WAR CRAD CREATED WITH 0 Cards.\n"
     ]
    }
   ],
   "source": [
    "print(war_deck)"
   ]
  },
  {
   "cell_type": "code",
   "execution_count": 8,
   "id": "7a98cf5c",
   "metadata": {},
   "outputs": [],
   "source": [
    "Lara = Player('Lara')\n",
    "Croft = Player('Croft')"
   ]
  },
  {
   "cell_type": "code",
   "execution_count": 9,
   "id": "8782004c",
   "metadata": {},
   "outputs": [],
   "source": [
    "for i in range(26):\n",
    "    Lara.add_cards(war_deck.deal_one())\n",
    "    Croft.add_cards(war_deck.deal_one())"
   ]
  },
  {
   "cell_type": "code",
   "execution_count": 10,
   "id": "d8f1b09e",
   "metadata": {},
   "outputs": [
    {
     "name": "stdout",
     "output_type": "stream",
     "text": [
      "Lara with 26 cards\n",
      "Croft with 26 cards\n"
     ]
    }
   ],
   "source": [
    "print(Lara)\n",
    "print(Croft)"
   ]
  }
 ],
 "metadata": {
  "kernelspec": {
   "display_name": "Python 3 (ipykernel)",
   "language": "python",
   "name": "python3"
  },
  "language_info": {
   "codemirror_mode": {
    "name": "ipython",
    "version": 3
   },
   "file_extension": ".py",
   "mimetype": "text/x-python",
   "name": "python",
   "nbconvert_exporter": "python",
   "pygments_lexer": "ipython3",
   "version": "3.11.7"
  }
 },
 "nbformat": 4,
 "nbformat_minor": 5
}
