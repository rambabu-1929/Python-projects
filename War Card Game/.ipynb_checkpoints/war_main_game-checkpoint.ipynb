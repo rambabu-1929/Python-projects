{
 "cells": [
  {
   "cell_type": "markdown",
   "id": "7bbb7886",
   "metadata": {},
   "source": [
    "# War Main Game"
   ]
  },
  {
   "cell_type": "code",
   "execution_count": 2,
   "id": "d03c1673",
   "metadata": {},
   "outputs": [],
   "source": [
    "import random\n",
    "from card_starter_pack import Suit, Rank, rank_value"
   ]
  },
  {
   "cell_type": "code",
   "execution_count": 3,
   "id": "25c65b12",
   "metadata": {},
   "outputs": [],
   "source": [
    "card_suits = Suit()\n",
    "\n",
    "card_Ranks = Rank()\n",
    "\n",
    "card_rank_value = rank_value()"
   ]
  },
  {
   "cell_type": "code",
   "execution_count": 4,
   "id": "ac1e3cf9",
   "metadata": {},
   "outputs": [],
   "source": [
    "class Card():\n",
    "    \n",
    "    def __init__(self,p_suit,p_rank):\n",
    "        self.p_suit = p_suit\n",
    "        self.p_rank = p_rank\n",
    "        self.value = card_rank_value[p_rank]\n",
    "        \n",
    "    def __str__(self):\n",
    "        return f'Card of {self.p_suit} with rank {self.value}'"
   ]
  },
  {
   "cell_type": "code",
   "execution_count": 7,
   "id": "102f9199",
   "metadata": {},
   "outputs": [],
   "source": [
    "class Deck():\n",
    "    deck_of_cards = []\n",
    "\n",
    "    for i in range(0,52):\n",
    "        random_suit = card_suits[random.randrange(len(card_suits))]\n",
    "        random_rank = card_Ranks[random.randrange(len(card_Ranks))]\n",
    "        current_card = Card(random_suit,random_rank)\n",
    "        deck_of_cards.append(current_card)"
   ]
  },
  {
   "cell_type": "code",
   "execution_count": 23,
   "id": "ccc9489b",
   "metadata": {},
   "outputs": [],
   "source": [
    "new_deck = Deck()"
   ]
  },
  {
   "cell_type": "code",
   "execution_count": 24,
   "id": "b055c17f",
   "metadata": {},
   "outputs": [
    {
     "name": "stdout",
     "output_type": "stream",
     "text": [
      "Card of Club with rank 11\n",
      "Card of Diamond with rank 9\n",
      "Card of Diamond with rank 4\n",
      "Card of Heart with rank 3\n",
      "Card of Club with rank 7\n",
      "Card of Spade with rank 1\n",
      "Card of Club with rank 5\n",
      "Card of Spade with rank 14\n",
      "Card of Club with rank 9\n",
      "Card of Diamond with rank 3\n",
      "Card of Club with rank 11\n",
      "Card of Spade with rank 13\n",
      "Card of Heart with rank 9\n",
      "Card of Spade with rank 1\n",
      "Card of Club with rank 11\n",
      "Card of Club with rank 3\n",
      "Card of Diamond with rank 7\n",
      "Card of Diamond with rank 9\n",
      "Card of Club with rank 10\n",
      "Card of Club with rank 8\n",
      "Card of Diamond with rank 11\n",
      "Card of Diamond with rank 4\n",
      "Card of Spade with rank 1\n",
      "Card of Heart with rank 13\n",
      "Card of Heart with rank 11\n",
      "Card of Heart with rank 4\n",
      "Card of Heart with rank 9\n",
      "Card of Spade with rank 13\n",
      "Card of Diamond with rank 6\n",
      "Card of Heart with rank 10\n",
      "Card of Spade with rank 3\n",
      "Card of Heart with rank 14\n",
      "Card of Heart with rank 11\n",
      "Card of Diamond with rank 4\n",
      "Card of Spade with rank 3\n",
      "Card of Heart with rank 7\n",
      "Card of Heart with rank 13\n",
      "Card of Club with rank 4\n",
      "Card of Club with rank 3\n",
      "Card of Heart with rank 12\n",
      "Card of Diamond with rank 2\n",
      "Card of Heart with rank 4\n",
      "Card of Diamond with rank 10\n",
      "Card of Diamond with rank 13\n",
      "Card of Club with rank 14\n",
      "Card of Club with rank 7\n",
      "Card of Club with rank 4\n",
      "Card of Diamond with rank 7\n",
      "Card of Heart with rank 3\n",
      "Card of Heart with rank 1\n",
      "Card of Heart with rank 2\n",
      "Card of Spade with rank 9\n"
     ]
    }
   ],
   "source": [
    "for card_object in new_deck.deck_of_cards:\n",
    "    print(card_object)"
   ]
  },
  {
   "cell_type": "code",
   "execution_count": null,
   "id": "72ff9c5b",
   "metadata": {},
   "outputs": [],
   "source": []
  }
 ],
 "metadata": {
  "kernelspec": {
   "display_name": "Python 3 (ipykernel)",
   "language": "python",
   "name": "python3"
  },
  "language_info": {
   "codemirror_mode": {
    "name": "ipython",
    "version": 3
   },
   "file_extension": ".py",
   "mimetype": "text/x-python",
   "name": "python",
   "nbconvert_exporter": "python",
   "pygments_lexer": "ipython3",
   "version": "3.11.7"
  }
 },
 "nbformat": 4,
 "nbformat_minor": 5
}
