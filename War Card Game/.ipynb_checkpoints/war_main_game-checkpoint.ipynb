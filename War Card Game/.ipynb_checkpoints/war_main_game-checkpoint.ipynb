{
 "cells": [
  {
   "cell_type": "markdown",
   "id": "7bbb7886",
   "metadata": {},
   "source": [
    "# War Main Game"
   ]
  },
  {
   "cell_type": "code",
   "execution_count": 48,
   "id": "d03c1673",
   "metadata": {},
   "outputs": [],
   "source": [
    "import random\n",
    "from card_starter_pack import Suit, Rank, rank_value"
   ]
  },
  {
   "cell_type": "code",
   "execution_count": 36,
   "id": "78a81092",
   "metadata": {},
   "outputs": [],
   "source": [
    "card_suits = Suit()\n",
    "\n",
    "card_Ranks = Rank()\n",
    "\n",
    "card_rank_value = rank_value()"
   ]
  },
  {
   "cell_type": "code",
   "execution_count": 45,
   "id": "e7488bac",
   "metadata": {},
   "outputs": [],
   "source": [
    "class Card():\n",
    "    \n",
    "    def __init__(self,p_suit,p_rank):\n",
    "        self.p_suit = p_suit\n",
    "        self.p_rank = p_rank\n",
    "        self.value = card_rank_value[p_rank]\n",
    "        \n",
    "    def __str__(self):\n",
    "        return f'Card of {self.p_suit} with rank {self.value}'"
   ]
  },
  {
   "cell_type": "code",
   "execution_count": null,
   "id": "ec014a8c",
   "metadata": {},
   "outputs": [],
   "source": [
    "card_of_decks = []\n",
    "for i in range(0,51):\n",
    "    random_suit = card_suits[random.randrange(len(card_suits))]"
   ]
  },
  {
   "cell_type": "code",
   "execution_count": 46,
   "id": "ffea626b",
   "metadata": {},
   "outputs": [],
   "source": [
    "heart_of_Two = Card('Heart','Two')"
   ]
  },
  {
   "cell_type": "code",
   "execution_count": 47,
   "id": "2353bdb2",
   "metadata": {},
   "outputs": [
    {
     "name": "stdout",
     "output_type": "stream",
     "text": [
      "Card of Heart with rank 2\n"
     ]
    }
   ],
   "source": [
    "print(heart_of_Two)"
   ]
  },
  {
   "cell_type": "code",
   "execution_count": null,
   "id": "39c6c3ef",
   "metadata": {},
   "outputs": [],
   "source": []
  }
 ],
 "metadata": {
  "kernelspec": {
   "display_name": "Python 3 (ipykernel)",
   "language": "python",
   "name": "python3"
  },
  "language_info": {
   "codemirror_mode": {
    "name": "ipython",
    "version": 3
   },
   "file_extension": ".py",
   "mimetype": "text/x-python",
   "name": "python",
   "nbconvert_exporter": "python",
   "pygments_lexer": "ipython3",
   "version": "3.11.7"
  }
 },
 "nbformat": 4,
 "nbformat_minor": 5
}
