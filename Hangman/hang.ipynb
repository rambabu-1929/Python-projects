{
 "cells": [
  {
   "cell_type": "markdown",
   "id": "2cbfd12a",
   "metadata": {},
   "source": [
    "# Hang Man"
   ]
  },
  {
   "cell_type": "code",
   "execution_count": 22,
   "id": "b0cfdeb8",
   "metadata": {},
   "outputs": [],
   "source": [
    "import random,string\n",
    "from IPython.display import clear_output\n",
    "from hangman_drawing import drawing\n",
    "from random_words import word_list\n",
    "from user_stages import user_destination"
   ]
  },
  {
   "cell_type": "code",
   "execution_count": 13,
   "id": "ec70720d",
   "metadata": {},
   "outputs": [
    {
     "name": "stdout",
     "output_type": "stream",
     "text": [
      "abcdefghijklmnopqrstuvwxyz\n"
     ]
    }
   ],
   "source": [
    "# Possible words for the user\n",
    "\n",
    "psble_guesses = string.ascii_lowercase\n",
    "\n",
    "\n",
    "game_intro = drawing()\n",
    "user_stage = user_destination()"
   ]
  },
  {
   "cell_type": "code",
   "execution_count": 102,
   "id": "12f1b80f",
   "metadata": {},
   "outputs": [],
   "source": [
    "def main_game():\n",
    "    # Game Intro\n",
    "    print(game_intro)\n",
    "    \n",
    "    # Generating random word\n",
    "    \n",
    "    rand_index = random.randrange(len(word_list))\n",
    "    curr_word = word_list[rand_index].lower()\n",
    "    print(curr_word)\n",
    "    \n",
    "    # Creating the Empty List\n",
    "    blank_word = ['-' for word in curr_word]\n",
    "    \n",
    "    # Word Guessing Logic\n",
    "    is_end = False\n",
    "    \n",
    "    # for printing the hang_man stage\n",
    "    stage = 6\n",
    "    #List of all the guessed words\n",
    "    guessed_list = []\n",
    "    \n",
    "    while not is_end:\n",
    "        \n",
    "        \n",
    "        \n",
    "        # filtering the wrong inputs\n",
    "        user_word = input('Enter your Guess: ').lower()\n",
    "        \n",
    "        while len(user_word) > 1:\n",
    "            print('One Step at a time...!!')\n",
    "            user_word = input('Enter your Guess: ').lower()\n",
    "        \n",
    "        while user_word not in psble_guesses:\n",
    "            print('Only choose Alphabets...')\n",
    "            user_word = input('Enter your Guess: ').lower()\n",
    "        \n",
    "        # checkng the presence of words\n",
    "        \n",
    "        # Checking for already guessed word\n",
    "        \n",
    "        while user_word in guessed_list:\n",
    "            print('U already guessed that word. Try new')\n",
    "            user_word = input('Enter your Guess: ').lower()\n",
    "        \n",
    "        if user_word in curr_word:\n",
    "            \n",
    "            # check for the duplicate words\n",
    "            count_of_word = curr_word.count(user_word)\n",
    "            \n",
    "            if count_of_word > 1:\n",
    "                for i in range(len(curr_word)):\n",
    "                    if curr_word[i] == user_word:\n",
    "                        blank_word[i] = user_word\n",
    "            else:\n",
    "                temp_index = curr_word.index(user_word)\n",
    "                blank_word[temp_index] = user_word\n",
    "                \n",
    "            clear_output()\n",
    "            print(blank_word)\n",
    "            \n",
    "        else:\n",
    "            clear_output()\n",
    "            print(user_stage[stage])\n",
    "            print(blank_word)\n",
    "            stage-=1\n",
    "            \n",
    "        guessed_list.append(user_word)\n",
    "        \n",
    "        # Break the loop if all words are found...\n",
    "        if '-' not in blank_word:\n",
    "            print('Congrats.... you\\'ve won the game!!!!!!')\n",
    "            is_end = True\n",
    "            break\n",
    "            \n",
    "        if stage < 0:\n",
    "            is_end = True\n",
    "            print('HANGED !!!!')\n",
    "            print(f'The Current word is {curr_word}')"
   ]
  },
  {
   "cell_type": "code",
   "execution_count": null,
   "id": "744d7517",
   "metadata": {},
   "outputs": [],
   "source": [
    "main_game()"
   ]
  }
 ],
 "metadata": {
  "kernelspec": {
   "display_name": "Python 3 (ipykernel)",
   "language": "python",
   "name": "python3"
  },
  "language_info": {
   "codemirror_mode": {
    "name": "ipython",
    "version": 3
   },
   "file_extension": ".py",
   "mimetype": "text/x-python",
   "name": "python",
   "nbconvert_exporter": "python",
   "pygments_lexer": "ipython3",
   "version": "3.11.5"
  }
 },
 "nbformat": 4,
 "nbformat_minor": 5
}
